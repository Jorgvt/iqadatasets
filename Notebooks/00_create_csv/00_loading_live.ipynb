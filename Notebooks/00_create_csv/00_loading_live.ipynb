{
 "cells": [
  {
   "cell_type": "code",
   "execution_count": null,
   "metadata": {},
   "outputs": [],
   "source": [
    "#| default_exp live"
   ]
  },
  {
   "cell_type": "markdown",
   "metadata": {},
   "source": [
    "# Loading LIVE\n",
    "\n",
    "> We will be loading the dataset from our private server."
   ]
  },
  {
   "cell_type": "code",
   "execution_count": null,
   "metadata": {},
   "outputs": [],
   "source": [
    "#| export\n",
    "import pandas as pd\n",
    "from pathlib import Path\n",
    "from natsort import natsorted\n",
    "from fastcore.foundation import L"
   ]
  },
  {
   "cell_type": "code",
   "execution_count": null,
   "metadata": {},
   "outputs": [],
   "source": [
    "#| hide\n",
    "path_root = Path(\"/media/disk/databases/BBDD_video_image/Image_Quality/LIVE/\")"
   ]
  },
  {
   "cell_type": "markdown",
   "metadata": {},
   "source": [
    "In the root folder we can find:\n",
    "\n",
    "- `refimgs`: Folder containing the reference images without distortions.\n",
    "- `gblur`, `jpeg`, `wn`, `fastfading`, `jp2k`: Folders containing images with the corresponding distortions (given by the folder name).\n",
    "- `dmos_live.mat`: Contains the distorted images and its DMOS.\n",
    "- `refnames_all.mat`: Stablishes correspondence between the distorted and reference images."
   ]
  },
  {
   "cell_type": "markdown",
   "metadata": {},
   "source": [
    "## Exploring `.mat` files\n",
    "\n",
    "We are going to begin by loading the `.mat` files to inspect them:"
   ]
  },
  {
   "cell_type": "code",
   "execution_count": null,
   "metadata": {},
   "outputs": [],
   "source": [
    "import scipy.io as sio"
   ]
  },
  {
   "cell_type": "code",
   "execution_count": null,
   "metadata": {},
   "outputs": [
    {
     "data": {
      "text/plain": [
       "dict_keys(['__header__', '__version__', '__globals__', 'orgs', 'dmos'])"
      ]
     },
     "execution_count": null,
     "metadata": {},
     "output_type": "execute_result"
    }
   ],
   "source": [
    "dmos_live = sio.loadmat(path_root/\"dmos_live.mat\", simplify_cells=True)\n",
    "dmos_live.keys()"
   ]
  },
  {
   "cell_type": "markdown",
   "metadata": {},
   "source": [
    "`dmos_live.mat` contains two columns: \n",
    "\n",
    "- `orgs`: Array of 0s and 1s, where a 0 indicates a distorted image and a 1 indicates a reference image.\n",
    "- `dmos`: Corresponding DMOS value. It's 0 for `orgs=1`."
   ]
  },
  {
   "cell_type": "code",
   "execution_count": null,
   "metadata": {},
   "outputs": [
    {
     "data": {
      "text/plain": [
       "982"
      ]
     },
     "execution_count": null,
     "metadata": {},
     "output_type": "execute_result"
    }
   ],
   "source": [
    "len(dmos_live[\"orgs\"])"
   ]
  },
  {
   "cell_type": "code",
   "execution_count": null,
   "metadata": {},
   "outputs": [
    {
     "data": {
      "text/plain": [
       "dict_keys(['__header__', '__version__', '__globals__', 'refnames_all'])"
      ]
     },
     "execution_count": null,
     "metadata": {},
     "output_type": "execute_result"
    }
   ],
   "source": [
    "refnames_all = sio.loadmat(path_root/\"refnames_all.mat\", simplify_cells=True)\n",
    "refnames_all.keys()"
   ]
  },
  {
   "cell_type": "markdown",
   "metadata": {},
   "source": [
    "On the other hand, `refnames_all.mat` contains only one column:\n",
    "\n",
    "- `refnames_all`: Filenames of the reference images."
   ]
  },
  {
   "cell_type": "code",
   "execution_count": null,
   "metadata": {},
   "outputs": [
    {
     "data": {
      "text/plain": [
       "array(['buildings.bmp', 'studentsculpture.bmp', 'rapids.bmp',\n",
       "       'dancers.bmp', 'churchandcapitol.bmp'], dtype=object)"
      ]
     },
     "execution_count": null,
     "metadata": {},
     "output_type": "execute_result"
    }
   ],
   "source": [
    "refnames_all['refnames_all'][:5]"
   ]
  },
  {
   "cell_type": "markdown",
   "metadata": {},
   "source": [
    "## Combining both files\n",
    "\n",
    "Now that we inspected both files, we have to note that the idea is that for `dmos_live[\"dmos\"][i]`, its corresponding reference image is `refnames_all[\"refnames_all\"][i]`. With this in mind, we can put all the information into a `.csv` file to facilitate the data loading in the future.\n",
    "\n",
    "> By doing so, we avoid having to repeat this process."
   ]
  },
  {
   "cell_type": "markdown",
   "metadata": {},
   "source": [
    "**Important**\n",
    "\n",
    "In `dmos_live` we have the DMOS corresponding to each distorsion, but we don't actually have the distorted images' names, so we will have to fetch them first. To do this, in the `readme.txt` file, it's said that `dmos_live.mat` has been constructed by filling, in order, with `jp2k`, `jpeg`, `wn`, `gblur` and `fastfading`, so we should get those paths in order and concatenate them to match."
   ]
  },
  {
   "cell_type": "code",
   "execution_count": null,
   "metadata": {},
   "outputs": [],
   "source": [
    "paths_jp2k = [str(x) for x in natsorted(list((path_root/\"jp2k\").glob(\"*.bmp\")))]\n",
    "paths_jpeg = [str(x) for x in natsorted(list((path_root/\"jpeg\").glob(\"*.bmp\")))]\n",
    "paths_wn = [str(x) for x in natsorted(list((path_root/\"wn\").glob(\"*.bmp\")))]\n",
    "paths_gblur = [str(x) for x in natsorted(list((path_root/\"gblur\").glob(\"*.bmp\")))]\n",
    "paths_fastfading = [str(x) for x in natsorted(list((path_root/\"fastfading\").glob(\"*.bmp\")))]\n",
    "paths = L(paths_jp2k, paths_jpeg, paths_wn, paths_gblur, paths_fastfading).concat()\n",
    "\n",
    "assert len(paths_jp2k) + len(paths_jpeg) + len(paths_wn) + len(paths_gblur) + len(paths_fastfading) == len(dmos_live[\"orgs\"])\n",
    "assert len(paths) == len(dmos_live[\"orgs\"])"
   ]
  },
  {
   "cell_type": "markdown",
   "metadata": {},
   "source": [
    "Right now, we have the full path to the images but we don't need that. It's enough to have only the `distortion/img` route:"
   ]
  },
  {
   "cell_type": "code",
   "execution_count": null,
   "metadata": {},
   "outputs": [
    {
     "data": {
      "text/plain": [
       "(#982) ['jp2k/img1.bmp','jp2k/img2.bmp','jp2k/img3.bmp','jp2k/img4.bmp','jp2k/img5.bmp','jp2k/img6.bmp','jp2k/img7.bmp','jp2k/img8.bmp','jp2k/img9.bmp','jp2k/img10.bmp'...]"
      ]
     },
     "execution_count": null,
     "metadata": {},
     "output_type": "execute_result"
    }
   ],
   "source": [
    "paths_short = paths.map(lambda x: \"/\".join(x.split(\"/\")[-2:]))\n",
    "paths_short"
   ]
  },
  {
   "cell_type": "code",
   "execution_count": null,
   "metadata": {},
   "outputs": [],
   "source": [
    "data = {\n",
    "    \"Reference\": refnames_all[\"refnames_all\"],\n",
    "    \"Distorted\": paths_short,\n",
    "    \"DMOS\": dmos_live[\"dmos\"]\n",
    "}"
   ]
  },
  {
   "cell_type": "code",
   "execution_count": null,
   "metadata": {},
   "outputs": [
    {
     "data": {
      "text/html": [
       "<div>\n",
       "<style scoped>\n",
       "    .dataframe tbody tr th:only-of-type {\n",
       "        vertical-align: middle;\n",
       "    }\n",
       "\n",
       "    .dataframe tbody tr th {\n",
       "        vertical-align: top;\n",
       "    }\n",
       "\n",
       "    .dataframe thead th {\n",
       "        text-align: right;\n",
       "    }\n",
       "</style>\n",
       "<table border=\"1\" class=\"dataframe\">\n",
       "  <thead>\n",
       "    <tr style=\"text-align: right;\">\n",
       "      <th></th>\n",
       "      <th>Reference</th>\n",
       "      <th>Distorted</th>\n",
       "      <th>DMOS</th>\n",
       "    </tr>\n",
       "  </thead>\n",
       "  <tbody>\n",
       "    <tr>\n",
       "      <th>0</th>\n",
       "      <td>buildings.bmp</td>\n",
       "      <td>jp2k/img1.bmp</td>\n",
       "      <td>0.000000</td>\n",
       "    </tr>\n",
       "    <tr>\n",
       "      <th>1</th>\n",
       "      <td>studentsculpture.bmp</td>\n",
       "      <td>jp2k/img2.bmp</td>\n",
       "      <td>28.003845</td>\n",
       "    </tr>\n",
       "    <tr>\n",
       "      <th>2</th>\n",
       "      <td>rapids.bmp</td>\n",
       "      <td>jp2k/img3.bmp</td>\n",
       "      <td>34.010736</td>\n",
       "    </tr>\n",
       "    <tr>\n",
       "      <th>3</th>\n",
       "      <td>dancers.bmp</td>\n",
       "      <td>jp2k/img4.bmp</td>\n",
       "      <td>65.131410</td>\n",
       "    </tr>\n",
       "    <tr>\n",
       "      <th>4</th>\n",
       "      <td>churchandcapitol.bmp</td>\n",
       "      <td>jp2k/img5.bmp</td>\n",
       "      <td>68.911340</td>\n",
       "    </tr>\n",
       "  </tbody>\n",
       "</table>\n",
       "</div>"
      ],
      "text/plain": [
       "              Reference      Distorted       DMOS\n",
       "0         buildings.bmp  jp2k/img1.bmp   0.000000\n",
       "1  studentsculpture.bmp  jp2k/img2.bmp  28.003845\n",
       "2            rapids.bmp  jp2k/img3.bmp  34.010736\n",
       "3           dancers.bmp  jp2k/img4.bmp  65.131410\n",
       "4  churchandcapitol.bmp  jp2k/img5.bmp  68.911340"
      ]
     },
     "execution_count": null,
     "metadata": {},
     "output_type": "execute_result"
    }
   ],
   "source": [
    "df = pd.DataFrame.from_dict(data)\n",
    "df.head()"
   ]
  },
  {
   "cell_type": "markdown",
   "metadata": {},
   "source": [
    "Finally, we save the generated `.csv` file:"
   ]
  },
  {
   "cell_type": "code",
   "execution_count": null,
   "metadata": {},
   "outputs": [],
   "source": [
    "#| notest\n",
    "df.to_csv(path_root/\"image_pairs_dmos.csv\")"
   ]
  }
 ],
 "metadata": {
  "kernelspec": {
   "display_name": "Python 3.8.12 ('tf26')",
   "language": "python",
   "name": "python3"
  }
 },
 "nbformat": 4,
 "nbformat_minor": 2
}
