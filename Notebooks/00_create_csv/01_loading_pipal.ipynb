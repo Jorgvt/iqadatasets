{
 "cells": [
  {
   "cell_type": "code",
   "execution_count": null,
   "metadata": {},
   "outputs": [],
   "source": [
    "#| default_exp pipal"
   ]
  },
  {
   "cell_type": "markdown",
   "metadata": {},
   "source": [
    "# Loading PIPAL\n",
    "\n",
    "> Loading PIPAL from our private server. The data is as is downloaded from their official webpage."
   ]
  },
  {
   "cell_type": "code",
   "execution_count": null,
   "metadata": {},
   "outputs": [],
   "source": [
    "#| export\n",
    "import re\n",
    "\n",
    "import pandas as pd\n",
    "from pathlib import Path\n",
    "from natsort import natsorted\n",
    "from fastcore.foundation import L"
   ]
  },
  {
   "cell_type": "code",
   "execution_count": null,
   "metadata": {},
   "outputs": [],
   "source": [
    "#| hide\n",
    "path_root = Path(\"/media/disk/databases/BBDD_video_image/Image_Quality/PIPAL/\")\n",
    "path_ref = path_root/\"Train_Ref\""
   ]
  },
  {
   "cell_type": "markdown",
   "metadata": {},
   "source": [
    "In the root folder we can find 6 different folders:\n",
    "\n",
    "- `Distortion_1`, `Distortion_2`, `Distortion_3`, `Distortion_4`: Contains distorted images. By the looks of it, the folder number doesn't have any special meaning, looks like a way of splitting the data for easier upload to *Google Drive*.\n",
    "- `Train_Labels`: Contains `.txt` files relating every reference image to their distorted versions, as well as their MOS.\n",
    "- `Train_Ref`: Contains the reference images."
   ]
  },
  {
   "cell_type": "markdown",
   "metadata": {},
   "source": [
    "Following the usual approach, we are going to try to build a `.csv` file relating each reference image, its distortions and the corresponding MOS. By doing so, we reduce a lot the possible complications when loading the data because it will be all paired. The idea is that we are going to fetch all the image paths and then will pair them using the `.txt` files:"
   ]
  },
  {
   "cell_type": "markdown",
   "metadata": {},
   "source": [
    "## Pairing the images\n",
    "\n",
    "> Let's pair each image with its distortions and their corresponding MOS."
   ]
  },
  {
   "cell_type": "markdown",
   "metadata": {},
   "source": [
    "By using `.glob()` we can get all the distortions and order them (this isn't really necessary, but doesn't do any harm)."
   ]
  },
  {
   "cell_type": "code",
   "execution_count": null,
   "metadata": {},
   "outputs": [],
   "source": [
    "paths_dist = L(natsorted(list(path_root.glob(\"Distortion_*/*.bmp\"))))\n",
    "paths_ref = L(natsorted(list(path_root.glob(\"Train_Ref/*.bmp\"))))\n",
    "paths_label = L(natsorted(list(path_root.glob(\"Train_Label/*.txt\"))))\n",
    "\n",
    "assert len(paths_ref) == len(paths_label)"
   ]
  },
  {
   "cell_type": "markdown",
   "metadata": {},
   "source": [
    "We can load a `.txt` file to see it:"
   ]
  },
  {
   "cell_type": "code",
   "execution_count": null,
   "metadata": {},
   "outputs": [
    {
     "data": {
      "text/html": [
       "<div>\n",
       "<style scoped>\n",
       "    .dataframe tbody tr th:only-of-type {\n",
       "        vertical-align: middle;\n",
       "    }\n",
       "\n",
       "    .dataframe tbody tr th {\n",
       "        vertical-align: top;\n",
       "    }\n",
       "\n",
       "    .dataframe thead th {\n",
       "        text-align: right;\n",
       "    }\n",
       "</style>\n",
       "<table border=\"1\" class=\"dataframe\">\n",
       "  <thead>\n",
       "    <tr style=\"text-align: right;\">\n",
       "      <th></th>\n",
       "      <th>Distorted</th>\n",
       "      <th>MOS</th>\n",
       "    </tr>\n",
       "  </thead>\n",
       "  <tbody>\n",
       "    <tr>\n",
       "      <th>0</th>\n",
       "      <td>A0001_00_00.bmp</td>\n",
       "      <td>1520.0648</td>\n",
       "    </tr>\n",
       "    <tr>\n",
       "      <th>1</th>\n",
       "      <td>A0001_00_01.bmp</td>\n",
       "      <td>1437.0798</td>\n",
       "    </tr>\n",
       "    <tr>\n",
       "      <th>2</th>\n",
       "      <td>A0001_00_02.bmp</td>\n",
       "      <td>1546.0616</td>\n",
       "    </tr>\n",
       "    <tr>\n",
       "      <th>3</th>\n",
       "      <td>A0001_00_03.bmp</td>\n",
       "      <td>1539.5688</td>\n",
       "    </tr>\n",
       "    <tr>\n",
       "      <th>4</th>\n",
       "      <td>A0001_00_04.bmp</td>\n",
       "      <td>1411.7958</td>\n",
       "    </tr>\n",
       "  </tbody>\n",
       "</table>\n",
       "</div>"
      ],
      "text/plain": [
       "         Distorted        MOS\n",
       "0  A0001_00_00.bmp  1520.0648\n",
       "1  A0001_00_01.bmp  1437.0798\n",
       "2  A0001_00_02.bmp  1546.0616\n",
       "3  A0001_00_03.bmp  1539.5688\n",
       "4  A0001_00_04.bmp  1411.7958"
      ]
     },
     "execution_count": null,
     "metadata": {},
     "output_type": "execute_result"
    }
   ],
   "source": [
    "df = pd.read_csv(paths_label[0], header=None, names=[\"Distorted\", \"MOS\"])\n",
    "df.head()"
   ]
  },
  {
   "cell_type": "markdown",
   "metadata": {},
   "source": [
    "Actually, as the images are properly names, we can extract its corresponding reference image from the path itself. This suggest that we can just load all the `.txt` files, put them together and then add the `Reference` column by extracting it from the distorted image path:"
   ]
  },
  {
   "cell_type": "code",
   "execution_count": null,
   "metadata": {},
   "outputs": [],
   "source": [
    "dfs_label = paths_label.map(pd.read_csv, header=None, names=[\"Distorted\", \"MOS\"])\n",
    "\n",
    "assert all(dfs_label[0] == df)\n",
    "assert len(dfs_label) == len(paths_label)"
   ]
  },
  {
   "cell_type": "markdown",
   "metadata": {},
   "source": [
    "Now that we have all the dataframes in an iterable, we can concatenate them together with `pd.concat`:"
   ]
  },
  {
   "cell_type": "code",
   "execution_count": null,
   "metadata": {},
   "outputs": [
    {
     "name": "stdout",
     "output_type": "stream",
     "text": [
      "(23200, 2)\n"
     ]
    },
    {
     "data": {
      "text/html": [
       "<div>\n",
       "<style scoped>\n",
       "    .dataframe tbody tr th:only-of-type {\n",
       "        vertical-align: middle;\n",
       "    }\n",
       "\n",
       "    .dataframe tbody tr th {\n",
       "        vertical-align: top;\n",
       "    }\n",
       "\n",
       "    .dataframe thead th {\n",
       "        text-align: right;\n",
       "    }\n",
       "</style>\n",
       "<table border=\"1\" class=\"dataframe\">\n",
       "  <thead>\n",
       "    <tr style=\"text-align: right;\">\n",
       "      <th></th>\n",
       "      <th>Distorted</th>\n",
       "      <th>MOS</th>\n",
       "    </tr>\n",
       "  </thead>\n",
       "  <tbody>\n",
       "    <tr>\n",
       "      <th>0</th>\n",
       "      <td>A0001_00_00.bmp</td>\n",
       "      <td>1520.0648</td>\n",
       "    </tr>\n",
       "    <tr>\n",
       "      <th>1</th>\n",
       "      <td>A0001_00_01.bmp</td>\n",
       "      <td>1437.0798</td>\n",
       "    </tr>\n",
       "    <tr>\n",
       "      <th>2</th>\n",
       "      <td>A0001_00_02.bmp</td>\n",
       "      <td>1546.0616</td>\n",
       "    </tr>\n",
       "    <tr>\n",
       "      <th>3</th>\n",
       "      <td>A0001_00_03.bmp</td>\n",
       "      <td>1539.5688</td>\n",
       "    </tr>\n",
       "    <tr>\n",
       "      <th>4</th>\n",
       "      <td>A0001_00_04.bmp</td>\n",
       "      <td>1411.7958</td>\n",
       "    </tr>\n",
       "  </tbody>\n",
       "</table>\n",
       "</div>"
      ],
      "text/plain": [
       "         Distorted        MOS\n",
       "0  A0001_00_00.bmp  1520.0648\n",
       "1  A0001_00_01.bmp  1437.0798\n",
       "2  A0001_00_02.bmp  1546.0616\n",
       "3  A0001_00_03.bmp  1539.5688\n",
       "4  A0001_00_04.bmp  1411.7958"
      ]
     },
     "execution_count": null,
     "metadata": {},
     "output_type": "execute_result"
    }
   ],
   "source": [
    "df_label = pd.concat(dfs_label)\n",
    "assert len(df_label) == dfs_label.map(len).sum()\n",
    "print(df_label.shape)\n",
    "df_label.head()"
   ]
  },
  {
   "cell_type": "code",
   "execution_count": null,
   "metadata": {},
   "outputs": [
    {
     "data": {
      "text/html": [
       "<div>\n",
       "<style scoped>\n",
       "    .dataframe tbody tr th:only-of-type {\n",
       "        vertical-align: middle;\n",
       "    }\n",
       "\n",
       "    .dataframe tbody tr th {\n",
       "        vertical-align: top;\n",
       "    }\n",
       "\n",
       "    .dataframe thead th {\n",
       "        text-align: right;\n",
       "    }\n",
       "</style>\n",
       "<table border=\"1\" class=\"dataframe\">\n",
       "  <thead>\n",
       "    <tr style=\"text-align: right;\">\n",
       "      <th></th>\n",
       "      <th>Distorted</th>\n",
       "      <th>MOS</th>\n",
       "      <th>Reference</th>\n",
       "    </tr>\n",
       "  </thead>\n",
       "  <tbody>\n",
       "    <tr>\n",
       "      <th>0</th>\n",
       "      <td>A0001_00_00.bmp</td>\n",
       "      <td>1520.0648</td>\n",
       "      <td>A0001.bmp</td>\n",
       "    </tr>\n",
       "    <tr>\n",
       "      <th>1</th>\n",
       "      <td>A0001_00_01.bmp</td>\n",
       "      <td>1437.0798</td>\n",
       "      <td>A0001.bmp</td>\n",
       "    </tr>\n",
       "    <tr>\n",
       "      <th>2</th>\n",
       "      <td>A0001_00_02.bmp</td>\n",
       "      <td>1546.0616</td>\n",
       "      <td>A0001.bmp</td>\n",
       "    </tr>\n",
       "    <tr>\n",
       "      <th>3</th>\n",
       "      <td>A0001_00_03.bmp</td>\n",
       "      <td>1539.5688</td>\n",
       "      <td>A0001.bmp</td>\n",
       "    </tr>\n",
       "    <tr>\n",
       "      <th>4</th>\n",
       "      <td>A0001_00_04.bmp</td>\n",
       "      <td>1411.7958</td>\n",
       "      <td>A0001.bmp</td>\n",
       "    </tr>\n",
       "  </tbody>\n",
       "</table>\n",
       "</div>"
      ],
      "text/plain": [
       "         Distorted        MOS  Reference\n",
       "0  A0001_00_00.bmp  1520.0648  A0001.bmp\n",
       "1  A0001_00_01.bmp  1437.0798  A0001.bmp\n",
       "2  A0001_00_02.bmp  1546.0616  A0001.bmp\n",
       "3  A0001_00_03.bmp  1539.5688  A0001.bmp\n",
       "4  A0001_00_04.bmp  1411.7958  A0001.bmp"
      ]
     },
     "execution_count": null,
     "metadata": {},
     "output_type": "execute_result"
    }
   ],
   "source": [
    "df_label[\"Reference\"] = df_label.Distorted.apply(lambda x: x.split(\"_\")[0]+\".bmp\")\n",
    "df_label.head()"
   ]
  },
  {
   "cell_type": "markdown",
   "metadata": {},
   "source": [
    "As a fancy ending, we can reorder the columns so that we have them like `Reference, Distorted, MOS`:"
   ]
  },
  {
   "cell_type": "code",
   "execution_count": null,
   "metadata": {},
   "outputs": [
    {
     "data": {
      "text/html": [
       "<div>\n",
       "<style scoped>\n",
       "    .dataframe tbody tr th:only-of-type {\n",
       "        vertical-align: middle;\n",
       "    }\n",
       "\n",
       "    .dataframe tbody tr th {\n",
       "        vertical-align: top;\n",
       "    }\n",
       "\n",
       "    .dataframe thead th {\n",
       "        text-align: right;\n",
       "    }\n",
       "</style>\n",
       "<table border=\"1\" class=\"dataframe\">\n",
       "  <thead>\n",
       "    <tr style=\"text-align: right;\">\n",
       "      <th></th>\n",
       "      <th>Reference</th>\n",
       "      <th>Distorted</th>\n",
       "      <th>MOS</th>\n",
       "    </tr>\n",
       "  </thead>\n",
       "  <tbody>\n",
       "    <tr>\n",
       "      <th>0</th>\n",
       "      <td>A0001.bmp</td>\n",
       "      <td>A0001_00_00.bmp</td>\n",
       "      <td>1520.0648</td>\n",
       "    </tr>\n",
       "    <tr>\n",
       "      <th>1</th>\n",
       "      <td>A0001.bmp</td>\n",
       "      <td>A0001_00_01.bmp</td>\n",
       "      <td>1437.0798</td>\n",
       "    </tr>\n",
       "    <tr>\n",
       "      <th>2</th>\n",
       "      <td>A0001.bmp</td>\n",
       "      <td>A0001_00_02.bmp</td>\n",
       "      <td>1546.0616</td>\n",
       "    </tr>\n",
       "    <tr>\n",
       "      <th>3</th>\n",
       "      <td>A0001.bmp</td>\n",
       "      <td>A0001_00_03.bmp</td>\n",
       "      <td>1539.5688</td>\n",
       "    </tr>\n",
       "    <tr>\n",
       "      <th>4</th>\n",
       "      <td>A0001.bmp</td>\n",
       "      <td>A0001_00_04.bmp</td>\n",
       "      <td>1411.7958</td>\n",
       "    </tr>\n",
       "  </tbody>\n",
       "</table>\n",
       "</div>"
      ],
      "text/plain": [
       "   Reference        Distorted        MOS\n",
       "0  A0001.bmp  A0001_00_00.bmp  1520.0648\n",
       "1  A0001.bmp  A0001_00_01.bmp  1437.0798\n",
       "2  A0001.bmp  A0001_00_02.bmp  1546.0616\n",
       "3  A0001.bmp  A0001_00_03.bmp  1539.5688\n",
       "4  A0001.bmp  A0001_00_04.bmp  1411.7958"
      ]
     },
     "execution_count": null,
     "metadata": {},
     "output_type": "execute_result"
    }
   ],
   "source": [
    "df_label = df_label.reindex(columns=[\"Reference\", \"Distorted\", \"MOS\"])\n",
    "df_label.head()"
   ]
  },
  {
   "cell_type": "markdown",
   "metadata": {},
   "source": [
    "Keep in mind that the distorted images are distributed across different folders so we have two options:\n",
    "\n",
    "- Put all of them in the same folder.\n",
    "- Add the corresponding folder to te `Distorted` columns.\n",
    "\n",
    "The first one would be the easier solution but, in order to make it work with the datasets as it comes when you download it, we can try to prepend the folder to each path. To do so, we can build another dataframe relating the distorted images and their corresponding directory:"
   ]
  },
  {
   "cell_type": "code",
   "execution_count": null,
   "metadata": {},
   "outputs": [],
   "source": [
    "def extract_folder_ref(path):\n",
    "    path = str(path)\n",
    "    return re.search(r\"(Distortion_\\d+)/(A\\d+_\\w+.bmp)\", path).groups()"
   ]
  },
  {
   "cell_type": "code",
   "execution_count": null,
   "metadata": {},
   "outputs": [],
   "source": [
    "dist2dir = {\"Distorted\":[], \"Directory\":[]}\n",
    "for dir, dist in paths_dist.map(extract_folder_ref).unique():\n",
    "    dist2dir[\"Distorted\"].append(dist)\n",
    "    dist2dir[\"Directory\"].append(dir)"
   ]
  },
  {
   "cell_type": "code",
   "execution_count": null,
   "metadata": {},
   "outputs": [
    {
     "data": {
      "text/html": [
       "<div>\n",
       "<style scoped>\n",
       "    .dataframe tbody tr th:only-of-type {\n",
       "        vertical-align: middle;\n",
       "    }\n",
       "\n",
       "    .dataframe tbody tr th {\n",
       "        vertical-align: top;\n",
       "    }\n",
       "\n",
       "    .dataframe thead th {\n",
       "        text-align: right;\n",
       "    }\n",
       "</style>\n",
       "<table border=\"1\" class=\"dataframe\">\n",
       "  <thead>\n",
       "    <tr style=\"text-align: right;\">\n",
       "      <th></th>\n",
       "      <th>Distorted</th>\n",
       "      <th>Directory</th>\n",
       "    </tr>\n",
       "  </thead>\n",
       "  <tbody>\n",
       "    <tr>\n",
       "      <th>0</th>\n",
       "      <td>A0001_00_00.bmp</td>\n",
       "      <td>Distortion_1</td>\n",
       "    </tr>\n",
       "    <tr>\n",
       "      <th>1</th>\n",
       "      <td>A0001_00_01.bmp</td>\n",
       "      <td>Distortion_1</td>\n",
       "    </tr>\n",
       "    <tr>\n",
       "      <th>2</th>\n",
       "      <td>A0001_00_02.bmp</td>\n",
       "      <td>Distortion_1</td>\n",
       "    </tr>\n",
       "    <tr>\n",
       "      <th>3</th>\n",
       "      <td>A0001_00_03.bmp</td>\n",
       "      <td>Distortion_1</td>\n",
       "    </tr>\n",
       "    <tr>\n",
       "      <th>4</th>\n",
       "      <td>A0001_00_04.bmp</td>\n",
       "      <td>Distortion_1</td>\n",
       "    </tr>\n",
       "  </tbody>\n",
       "</table>\n",
       "</div>"
      ],
      "text/plain": [
       "         Distorted     Directory\n",
       "0  A0001_00_00.bmp  Distortion_1\n",
       "1  A0001_00_01.bmp  Distortion_1\n",
       "2  A0001_00_02.bmp  Distortion_1\n",
       "3  A0001_00_03.bmp  Distortion_1\n",
       "4  A0001_00_04.bmp  Distortion_1"
      ]
     },
     "execution_count": null,
     "metadata": {},
     "output_type": "execute_result"
    }
   ],
   "source": [
    "dist2dir = pd.DataFrame.from_dict(dist2dir, orient=\"columns\")\n",
    "dist2dir.head()"
   ]
  },
  {
   "cell_type": "code",
   "execution_count": null,
   "metadata": {},
   "outputs": [
    {
     "data": {
      "text/html": [
       "<div>\n",
       "<style scoped>\n",
       "    .dataframe tbody tr th:only-of-type {\n",
       "        vertical-align: middle;\n",
       "    }\n",
       "\n",
       "    .dataframe tbody tr th {\n",
       "        vertical-align: top;\n",
       "    }\n",
       "\n",
       "    .dataframe thead th {\n",
       "        text-align: right;\n",
       "    }\n",
       "</style>\n",
       "<table border=\"1\" class=\"dataframe\">\n",
       "  <thead>\n",
       "    <tr style=\"text-align: right;\">\n",
       "      <th></th>\n",
       "      <th>Reference</th>\n",
       "      <th>Distorted</th>\n",
       "      <th>MOS</th>\n",
       "    </tr>\n",
       "  </thead>\n",
       "  <tbody>\n",
       "    <tr>\n",
       "      <th>0</th>\n",
       "      <td>A0001.bmp</td>\n",
       "      <td>A0001_00_00.bmp</td>\n",
       "      <td>1520.0648</td>\n",
       "    </tr>\n",
       "    <tr>\n",
       "      <th>1</th>\n",
       "      <td>A0001.bmp</td>\n",
       "      <td>A0001_00_01.bmp</td>\n",
       "      <td>1437.0798</td>\n",
       "    </tr>\n",
       "    <tr>\n",
       "      <th>2</th>\n",
       "      <td>A0001.bmp</td>\n",
       "      <td>A0001_00_02.bmp</td>\n",
       "      <td>1546.0616</td>\n",
       "    </tr>\n",
       "    <tr>\n",
       "      <th>3</th>\n",
       "      <td>A0001.bmp</td>\n",
       "      <td>A0001_00_03.bmp</td>\n",
       "      <td>1539.5688</td>\n",
       "    </tr>\n",
       "    <tr>\n",
       "      <th>4</th>\n",
       "      <td>A0001.bmp</td>\n",
       "      <td>A0001_00_04.bmp</td>\n",
       "      <td>1411.7958</td>\n",
       "    </tr>\n",
       "  </tbody>\n",
       "</table>\n",
       "</div>"
      ],
      "text/plain": [
       "   Reference        Distorted        MOS\n",
       "0  A0001.bmp  A0001_00_00.bmp  1520.0648\n",
       "1  A0001.bmp  A0001_00_01.bmp  1437.0798\n",
       "2  A0001.bmp  A0001_00_02.bmp  1546.0616\n",
       "3  A0001.bmp  A0001_00_03.bmp  1539.5688\n",
       "4  A0001.bmp  A0001_00_04.bmp  1411.7958"
      ]
     },
     "execution_count": null,
     "metadata": {},
     "output_type": "execute_result"
    }
   ],
   "source": [
    "df_label.head()"
   ]
  },
  {
   "cell_type": "code",
   "execution_count": null,
   "metadata": {},
   "outputs": [
    {
     "data": {
      "text/html": [
       "<div>\n",
       "<style scoped>\n",
       "    .dataframe tbody tr th:only-of-type {\n",
       "        vertical-align: middle;\n",
       "    }\n",
       "\n",
       "    .dataframe tbody tr th {\n",
       "        vertical-align: top;\n",
       "    }\n",
       "\n",
       "    .dataframe thead th {\n",
       "        text-align: right;\n",
       "    }\n",
       "</style>\n",
       "<table border=\"1\" class=\"dataframe\">\n",
       "  <thead>\n",
       "    <tr style=\"text-align: right;\">\n",
       "      <th></th>\n",
       "      <th>Reference</th>\n",
       "      <th>Distorted</th>\n",
       "      <th>MOS</th>\n",
       "      <th>Directory</th>\n",
       "    </tr>\n",
       "  </thead>\n",
       "  <tbody>\n",
       "    <tr>\n",
       "      <th>0</th>\n",
       "      <td>A0001.bmp</td>\n",
       "      <td>A0001_00_00.bmp</td>\n",
       "      <td>1520.0648</td>\n",
       "      <td>Distortion_1</td>\n",
       "    </tr>\n",
       "    <tr>\n",
       "      <th>1</th>\n",
       "      <td>A0001.bmp</td>\n",
       "      <td>A0001_00_01.bmp</td>\n",
       "      <td>1437.0798</td>\n",
       "      <td>Distortion_1</td>\n",
       "    </tr>\n",
       "    <tr>\n",
       "      <th>2</th>\n",
       "      <td>A0001.bmp</td>\n",
       "      <td>A0001_00_02.bmp</td>\n",
       "      <td>1546.0616</td>\n",
       "      <td>Distortion_1</td>\n",
       "    </tr>\n",
       "    <tr>\n",
       "      <th>3</th>\n",
       "      <td>A0001.bmp</td>\n",
       "      <td>A0001_00_03.bmp</td>\n",
       "      <td>1539.5688</td>\n",
       "      <td>Distortion_1</td>\n",
       "    </tr>\n",
       "    <tr>\n",
       "      <th>4</th>\n",
       "      <td>A0001.bmp</td>\n",
       "      <td>A0001_00_04.bmp</td>\n",
       "      <td>1411.7958</td>\n",
       "      <td>Distortion_1</td>\n",
       "    </tr>\n",
       "  </tbody>\n",
       "</table>\n",
       "</div>"
      ],
      "text/plain": [
       "   Reference        Distorted        MOS     Directory\n",
       "0  A0001.bmp  A0001_00_00.bmp  1520.0648  Distortion_1\n",
       "1  A0001.bmp  A0001_00_01.bmp  1437.0798  Distortion_1\n",
       "2  A0001.bmp  A0001_00_02.bmp  1546.0616  Distortion_1\n",
       "3  A0001.bmp  A0001_00_03.bmp  1539.5688  Distortion_1\n",
       "4  A0001.bmp  A0001_00_04.bmp  1411.7958  Distortion_1"
      ]
     },
     "execution_count": null,
     "metadata": {},
     "output_type": "execute_result"
    }
   ],
   "source": [
    "df_label_dir = df_label.merge(right=dist2dir, how=\"left\", left_on=\"Distorted\", right_on=\"Distorted\")\n",
    "df_label_dir.head()"
   ]
  },
  {
   "cell_type": "markdown",
   "metadata": {},
   "source": [
    "Now we are done! Let's save the `.csv` file:"
   ]
  },
  {
   "cell_type": "code",
   "execution_count": null,
   "metadata": {},
   "outputs": [
    {
     "data": {
      "text/plain": [
       "PosixPath('/media/disk/databases/BBDD_video_image/Image_Quality/PIPAL')"
      ]
     },
     "execution_count": null,
     "metadata": {},
     "output_type": "execute_result"
    }
   ],
   "source": [
    "path_root"
   ]
  },
  {
   "cell_type": "code",
   "execution_count": null,
   "metadata": {},
   "outputs": [],
   "source": [
    "#| notest\n",
    "df_label_dir.to_csv(path_root/\"image_pairs_mos.csv\")"
   ]
  }
 ],
 "metadata": {
  "kernelspec": {
   "display_name": "Python 3.8.12 ('tf26')",
   "language": "python",
   "name": "python3"
  }
 },
 "nbformat": 4,
 "nbformat_minor": 2
}
