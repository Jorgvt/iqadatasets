{
 "cells": [
  {
   "attachments": {},
   "cell_type": "markdown",
   "metadata": {},
   "source": [
    "# Visualizing TID2008\n",
    "\n",
    "> We'll be logging TID2008 into WandB to visualize it."
   ]
  },
  {
   "cell_type": "code",
   "execution_count": 1,
   "metadata": {},
   "outputs": [],
   "source": [
    "%load_ext autoreload\n",
    "%autoreload 2"
   ]
  },
  {
   "cell_type": "code",
   "execution_count": 2,
   "metadata": {},
   "outputs": [],
   "source": [
    "#| hide\n",
    "import os; os.environ[\"CUDA_VISIBLE_DEVICES\"] = \"-1\""
   ]
  },
  {
   "cell_type": "code",
   "execution_count": 28,
   "metadata": {},
   "outputs": [],
   "source": [
    "from pathlib import Path\n",
    "\n",
    "import pandas as pd\n",
    "import wandb\n",
    "from fastcore.foundation import L\n",
    "from fastcore.parallel import parallel\n",
    "from fastprogress.fastprogress import master_bar, progress_bar\n",
    "\n",
    "from iqadatasets.datasets import TID2008"
   ]
  },
  {
   "attachments": {},
   "cell_type": "markdown",
   "metadata": {},
   "source": [
    "Logging a dataset into WandB as a `Table` is actually very easy and can help us know more about our data. Because we have already built a set of helper classes to load the datasets, it will be easy to do. We'll start by building the helper object and inspecting the original `.csv` file:"
   ]
  },
  {
   "cell_type": "code",
   "execution_count": 7,
   "metadata": {},
   "outputs": [],
   "source": [
    "dst = TID2008(path = Path(\"/lustre/ific.uv.es/ml/uv075/Databases/IQA/TID/TID2008\"))"
   ]
  },
  {
   "cell_type": "code",
   "execution_count": 8,
   "metadata": {},
   "outputs": [
    {
     "data": {
      "text/html": [
       "<div>\n",
       "<style scoped>\n",
       "    .dataframe tbody tr th:only-of-type {\n",
       "        vertical-align: middle;\n",
       "    }\n",
       "\n",
       "    .dataframe tbody tr th {\n",
       "        vertical-align: top;\n",
       "    }\n",
       "\n",
       "    .dataframe thead th {\n",
       "        text-align: right;\n",
       "    }\n",
       "</style>\n",
       "<table border=\"1\" class=\"dataframe\">\n",
       "  <thead>\n",
       "    <tr style=\"text-align: right;\">\n",
       "      <th></th>\n",
       "      <th>Reference</th>\n",
       "      <th>Distorted</th>\n",
       "      <th>MOS</th>\n",
       "      <th>Reference_ID</th>\n",
       "      <th>Distortion_ID</th>\n",
       "      <th>Distortion_Intensity</th>\n",
       "    </tr>\n",
       "  </thead>\n",
       "  <tbody>\n",
       "    <tr>\n",
       "      <th>0</th>\n",
       "      <td>I01.BMP</td>\n",
       "      <td>I01_01_1.bmp</td>\n",
       "      <td>5.9706</td>\n",
       "      <td>1</td>\n",
       "      <td>1</td>\n",
       "      <td>1</td>\n",
       "    </tr>\n",
       "    <tr>\n",
       "      <th>1</th>\n",
       "      <td>I01.BMP</td>\n",
       "      <td>I01_01_2.bmp</td>\n",
       "      <td>5.4167</td>\n",
       "      <td>1</td>\n",
       "      <td>1</td>\n",
       "      <td>2</td>\n",
       "    </tr>\n",
       "    <tr>\n",
       "      <th>2</th>\n",
       "      <td>I01.BMP</td>\n",
       "      <td>I01_01_3.bmp</td>\n",
       "      <td>4.5556</td>\n",
       "      <td>1</td>\n",
       "      <td>1</td>\n",
       "      <td>3</td>\n",
       "    </tr>\n",
       "    <tr>\n",
       "      <th>3</th>\n",
       "      <td>I01.BMP</td>\n",
       "      <td>I01_01_4.bmp</td>\n",
       "      <td>4.3143</td>\n",
       "      <td>1</td>\n",
       "      <td>1</td>\n",
       "      <td>4</td>\n",
       "    </tr>\n",
       "    <tr>\n",
       "      <th>4</th>\n",
       "      <td>I01.BMP</td>\n",
       "      <td>I01_02_1.bmp</td>\n",
       "      <td>6.1429</td>\n",
       "      <td>1</td>\n",
       "      <td>2</td>\n",
       "      <td>1</td>\n",
       "    </tr>\n",
       "    <tr>\n",
       "      <th>...</th>\n",
       "      <td>...</td>\n",
       "      <td>...</td>\n",
       "      <td>...</td>\n",
       "      <td>...</td>\n",
       "      <td>...</td>\n",
       "      <td>...</td>\n",
       "    </tr>\n",
       "    <tr>\n",
       "      <th>1695</th>\n",
       "      <td>I25.BMP</td>\n",
       "      <td>I25_16_4.bmp</td>\n",
       "      <td>4.6000</td>\n",
       "      <td>25</td>\n",
       "      <td>16</td>\n",
       "      <td>4</td>\n",
       "    </tr>\n",
       "    <tr>\n",
       "      <th>1696</th>\n",
       "      <td>I25.BMP</td>\n",
       "      <td>I25_17_1.bmp</td>\n",
       "      <td>7.2400</td>\n",
       "      <td>25</td>\n",
       "      <td>17</td>\n",
       "      <td>1</td>\n",
       "    </tr>\n",
       "    <tr>\n",
       "      <th>1697</th>\n",
       "      <td>I25.BMP</td>\n",
       "      <td>I25_17_2.bmp</td>\n",
       "      <td>5.0000</td>\n",
       "      <td>25</td>\n",
       "      <td>17</td>\n",
       "      <td>2</td>\n",
       "    </tr>\n",
       "    <tr>\n",
       "      <th>1698</th>\n",
       "      <td>I25.BMP</td>\n",
       "      <td>I25_17_3.bmp</td>\n",
       "      <td>6.4615</td>\n",
       "      <td>25</td>\n",
       "      <td>17</td>\n",
       "      <td>3</td>\n",
       "    </tr>\n",
       "    <tr>\n",
       "      <th>1699</th>\n",
       "      <td>I25.BMP</td>\n",
       "      <td>I25_17_4.bmp</td>\n",
       "      <td>3.5000</td>\n",
       "      <td>25</td>\n",
       "      <td>17</td>\n",
       "      <td>4</td>\n",
       "    </tr>\n",
       "  </tbody>\n",
       "</table>\n",
       "<p>1700 rows × 6 columns</p>\n",
       "</div>"
      ],
      "text/plain": [
       "     Reference     Distorted     MOS  Reference_ID  Distortion_ID  \\\n",
       "0      I01.BMP  I01_01_1.bmp  5.9706             1              1   \n",
       "1      I01.BMP  I01_01_2.bmp  5.4167             1              1   \n",
       "2      I01.BMP  I01_01_3.bmp  4.5556             1              1   \n",
       "3      I01.BMP  I01_01_4.bmp  4.3143             1              1   \n",
       "4      I01.BMP  I01_02_1.bmp  6.1429             1              2   \n",
       "...        ...           ...     ...           ...            ...   \n",
       "1695   I25.BMP  I25_16_4.bmp  4.6000            25             16   \n",
       "1696   I25.BMP  I25_17_1.bmp  7.2400            25             17   \n",
       "1697   I25.BMP  I25_17_2.bmp  5.0000            25             17   \n",
       "1698   I25.BMP  I25_17_3.bmp  6.4615            25             17   \n",
       "1699   I25.BMP  I25_17_4.bmp  3.5000            25             17   \n",
       "\n",
       "      Distortion_Intensity  \n",
       "0                        1  \n",
       "1                        2  \n",
       "2                        3  \n",
       "3                        4  \n",
       "4                        1  \n",
       "...                    ...  \n",
       "1695                     4  \n",
       "1696                     1  \n",
       "1697                     2  \n",
       "1698                     3  \n",
       "1699                     4  \n",
       "\n",
       "[1700 rows x 6 columns]"
      ]
     },
     "execution_count": 8,
     "metadata": {},
     "output_type": "execute_result"
    }
   ],
   "source": [
    "dst.data"
   ]
  },
  {
   "attachments": {},
   "cell_type": "markdown",
   "metadata": {},
   "source": [
    "As we can see, the `.csv` file already contains all the information we need.\n",
    "\n",
    "We could start iterating over its rows to load the images, but we can make use of the `.dataset` attribute to do it in a batched fashion, which will be quite faster."
   ]
  },
  {
   "cell_type": "code",
   "execution_count": 25,
   "metadata": {},
   "outputs": [
    {
     "data": {
      "text/plain": [
       "13"
      ]
     },
     "execution_count": 25,
     "metadata": {},
     "output_type": "execute_result"
    }
   ],
   "source": [
    "round(len(dst.data) / BATCH_SIZE)"
   ]
  },
  {
   "cell_type": "code",
   "execution_count": 30,
   "metadata": {},
   "outputs": [
    {
     "name": "stdout",
     "output_type": "stream",
     "text": [
      " |████████████████████████████████████████| 100.00% [36/36 00:01<00:00]0]\r"
     ]
    }
   ],
   "source": [
    "BATCH_SIZE = 128\n",
    "total = len(dst.data)/BATCH_SIZE\n",
    "total = round(total) + 1 if total > round(total) else round(total)\n",
    "reference, distorted = L(), L()\n",
    "mb = master_bar(dst.dataset.batch(BATCH_SIZE), total=total, total_time=True)\n",
    "for img, dist, mos in mb:\n",
    "    img = L([wandb.Image(i) for i in progress_bar(img, leave=True, master=mb)])\n",
    "    dist = L([wandb.Image(i) for i in progress_bar(dist, leave=True, master=mb)])\n",
    "    reference.extend(img)\n",
    "    distorted.extend(dist)"
   ]
  },
  {
   "attachments": {},
   "cell_type": "markdown",
   "metadata": {},
   "source": [
    "Having created all the necessary `wandb.Image` objects, we can replace the `Reference` and `Distorted` columns in the previous dataframe and log it into *WandB*:"
   ]
  },
  {
   "cell_type": "code",
   "execution_count": 31,
   "metadata": {},
   "outputs": [
    {
     "data": {
      "text/html": [
       "<div>\n",
       "<style scoped>\n",
       "    .dataframe tbody tr th:only-of-type {\n",
       "        vertical-align: middle;\n",
       "    }\n",
       "\n",
       "    .dataframe tbody tr th {\n",
       "        vertical-align: top;\n",
       "    }\n",
       "\n",
       "    .dataframe thead th {\n",
       "        text-align: right;\n",
       "    }\n",
       "</style>\n",
       "<table border=\"1\" class=\"dataframe\">\n",
       "  <thead>\n",
       "    <tr style=\"text-align: right;\">\n",
       "      <th></th>\n",
       "      <th>Reference</th>\n",
       "      <th>Distorted</th>\n",
       "      <th>MOS</th>\n",
       "      <th>Reference_ID</th>\n",
       "      <th>Distortion_ID</th>\n",
       "      <th>Distortion_Intensity</th>\n",
       "    </tr>\n",
       "  </thead>\n",
       "  <tbody>\n",
       "    <tr>\n",
       "      <th>0</th>\n",
       "      <td>&lt;wandb.sdk.data_types.image.Image object at 0x...</td>\n",
       "      <td>&lt;wandb.sdk.data_types.image.Image object at 0x...</td>\n",
       "      <td>5.9706</td>\n",
       "      <td>1</td>\n",
       "      <td>1</td>\n",
       "      <td>1</td>\n",
       "    </tr>\n",
       "    <tr>\n",
       "      <th>1</th>\n",
       "      <td>&lt;wandb.sdk.data_types.image.Image object at 0x...</td>\n",
       "      <td>&lt;wandb.sdk.data_types.image.Image object at 0x...</td>\n",
       "      <td>5.4167</td>\n",
       "      <td>1</td>\n",
       "      <td>1</td>\n",
       "      <td>2</td>\n",
       "    </tr>\n",
       "    <tr>\n",
       "      <th>2</th>\n",
       "      <td>&lt;wandb.sdk.data_types.image.Image object at 0x...</td>\n",
       "      <td>&lt;wandb.sdk.data_types.image.Image object at 0x...</td>\n",
       "      <td>4.5556</td>\n",
       "      <td>1</td>\n",
       "      <td>1</td>\n",
       "      <td>3</td>\n",
       "    </tr>\n",
       "    <tr>\n",
       "      <th>3</th>\n",
       "      <td>&lt;wandb.sdk.data_types.image.Image object at 0x...</td>\n",
       "      <td>&lt;wandb.sdk.data_types.image.Image object at 0x...</td>\n",
       "      <td>4.3143</td>\n",
       "      <td>1</td>\n",
       "      <td>1</td>\n",
       "      <td>4</td>\n",
       "    </tr>\n",
       "    <tr>\n",
       "      <th>4</th>\n",
       "      <td>&lt;wandb.sdk.data_types.image.Image object at 0x...</td>\n",
       "      <td>&lt;wandb.sdk.data_types.image.Image object at 0x...</td>\n",
       "      <td>6.1429</td>\n",
       "      <td>1</td>\n",
       "      <td>2</td>\n",
       "      <td>1</td>\n",
       "    </tr>\n",
       "  </tbody>\n",
       "</table>\n",
       "</div>"
      ],
      "text/plain": [
       "                                           Reference  \\\n",
       "0  <wandb.sdk.data_types.image.Image object at 0x...   \n",
       "1  <wandb.sdk.data_types.image.Image object at 0x...   \n",
       "2  <wandb.sdk.data_types.image.Image object at 0x...   \n",
       "3  <wandb.sdk.data_types.image.Image object at 0x...   \n",
       "4  <wandb.sdk.data_types.image.Image object at 0x...   \n",
       "\n",
       "                                           Distorted     MOS  Reference_ID  \\\n",
       "0  <wandb.sdk.data_types.image.Image object at 0x...  5.9706             1   \n",
       "1  <wandb.sdk.data_types.image.Image object at 0x...  5.4167             1   \n",
       "2  <wandb.sdk.data_types.image.Image object at 0x...  4.5556             1   \n",
       "3  <wandb.sdk.data_types.image.Image object at 0x...  4.3143             1   \n",
       "4  <wandb.sdk.data_types.image.Image object at 0x...  6.1429             1   \n",
       "\n",
       "   Distortion_ID  Distortion_Intensity  \n",
       "0              1                     1  \n",
       "1              1                     2  \n",
       "2              1                     3  \n",
       "3              1                     4  \n",
       "4              2                     1  "
      ]
     },
     "execution_count": 31,
     "metadata": {},
     "output_type": "execute_result"
    }
   ],
   "source": [
    "wb_table = dst.data.copy()\n",
    "wb_table[\"Reference\"] = reference\n",
    "wb_table[\"Distorted\"] = distorted\n",
    "wb_table.head()"
   ]
  },
  {
   "cell_type": "code",
   "execution_count": 34,
   "metadata": {},
   "outputs": [],
   "source": [
    "wb_table_table = wandb.Table(data=wb_table)"
   ]
  },
  {
   "cell_type": "code",
   "execution_count": 32,
   "metadata": {},
   "outputs": [
    {
     "name": "stderr",
     "output_type": "stream",
     "text": [
      "Failed to detect the name of this notebook, you can set it manually with the WANDB_NOTEBOOK_NAME environment variable to enable code saving.\n",
      "\u001b[34m\u001b[1mwandb\u001b[0m: Currently logged in as: \u001b[33mjorgvt\u001b[0m. Use \u001b[1m`wandb login --relogin`\u001b[0m to force relogin\n"
     ]
    },
    {
     "data": {
      "text/html": [
       "wandb version 0.13.7 is available!  To upgrade, please run:\n",
       " $ pip install wandb --upgrade"
      ],
      "text/plain": [
       "<IPython.core.display.HTML object>"
      ]
     },
     "metadata": {},
     "output_type": "display_data"
    },
    {
     "data": {
      "text/html": [
       "Tracking run with wandb version 0.13.3"
      ],
      "text/plain": [
       "<IPython.core.display.HTML object>"
      ]
     },
     "metadata": {},
     "output_type": "display_data"
    },
    {
     "data": {
      "text/html": [
       "Run data is saved locally in <code>/lhome/ext/uv075/uv0752/iqadatasets/Notebooks/02_visualization/wandb/run-20230103_200728-2t7edh5a</code>"
      ],
      "text/plain": [
       "<IPython.core.display.HTML object>"
      ]
     },
     "metadata": {},
     "output_type": "display_data"
    },
    {
     "data": {
      "text/html": [
       "Syncing run <strong><a href=\"https://wandb.ai/jorgvt/TID2008/runs/2t7edh5a\" target=\"_blank\">VizTID2008</a></strong> to <a href=\"https://wandb.ai/jorgvt/TID2008\" target=\"_blank\">Weights & Biases</a> (<a href=\"https://wandb.me/run\" target=\"_blank\">docs</a>)<br/>"
      ],
      "text/plain": [
       "<IPython.core.display.HTML object>"
      ]
     },
     "metadata": {},
     "output_type": "display_data"
    },
    {
     "data": {
      "text/html": [
       "<button onClick=\"this.nextSibling.style.display='block';this.style.display='none';\">Display W&B run</button><iframe src=\"https://wandb.ai/jorgvt/TID2008/runs/2t7edh5a?jupyter=true\" style=\"border:none;width:100%;height:420px;display:none;\"></iframe>"
      ],
      "text/plain": [
       "<wandb.sdk.wandb_run.Run at 0x7f4904179970>"
      ]
     },
     "execution_count": 32,
     "metadata": {},
     "output_type": "execute_result"
    }
   ],
   "source": [
    "wandb.init(job_type=\"viz_data\",\n",
    "           project=\"TID2008\",\n",
    "           name=\"VizTID2008\")"
   ]
  },
  {
   "cell_type": "code",
   "execution_count": 35,
   "metadata": {},
   "outputs": [],
   "source": [
    "wandb.log({\"TID2008\": wb_table_table})"
   ]
  },
  {
   "cell_type": "code",
   "execution_count": 36,
   "metadata": {},
   "outputs": [
    {
     "data": {
      "text/html": [
       "Waiting for W&B process to finish... <strong style=\"color:green\">(success).</strong>"
      ],
      "text/plain": [
       "<IPython.core.display.HTML object>"
      ]
     },
     "metadata": {},
     "output_type": "display_data"
    },
    {
     "data": {
      "application/vnd.jupyter.widget-view+json": {
       "model_id": "568981711894464c801076ea69015d34",
       "version_major": 2,
       "version_minor": 0
      },
      "text/plain": [
       "VBox(children=(Label(value='556.905 MB of 556.966 MB uploaded (0.000 MB deduped)\\r'), FloatProgress(value=0.99…"
      ]
     },
     "metadata": {},
     "output_type": "display_data"
    },
    {
     "data": {
      "text/html": [
       "Synced <strong style=\"color:#cdcd00\">VizTID2008</strong>: <a href=\"https://wandb.ai/jorgvt/TID2008/runs/2t7edh5a\" target=\"_blank\">https://wandb.ai/jorgvt/TID2008/runs/2t7edh5a</a><br/>Synced 5 W&B file(s), 1 media file(s), 1726 artifact file(s) and 0 other file(s)"
      ],
      "text/plain": [
       "<IPython.core.display.HTML object>"
      ]
     },
     "metadata": {},
     "output_type": "display_data"
    },
    {
     "data": {
      "text/html": [
       "Find logs at: <code>./wandb/run-20230103_200728-2t7edh5a/logs</code>"
      ],
      "text/plain": [
       "<IPython.core.display.HTML object>"
      ]
     },
     "metadata": {},
     "output_type": "display_data"
    }
   ],
   "source": [
    "wandb.finish()"
   ]
  }
 ],
 "metadata": {
  "kernelspec": {
   "display_name": "cuda",
   "language": "python",
   "name": "python3"
  },
  "language_info": {
   "codemirror_mode": {
    "name": "ipython",
    "version": 3
   },
   "file_extension": ".py",
   "mimetype": "text/x-python",
   "name": "python",
   "nbconvert_exporter": "python",
   "pygments_lexer": "ipython3",
   "version": "3.8.13"
  },
  "orig_nbformat": 4,
  "vscode": {
   "interpreter": {
    "hash": "da5141a55de43f9a5c077a362efe5e2ae0cb795b0fc8676e62dbd4f64287ec27"
   }
  }
 },
 "nbformat": 4,
 "nbformat_minor": 2
}
