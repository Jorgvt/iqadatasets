{
 "cells": [
  {
   "cell_type": "code",
   "execution_count": null,
   "metadata": {},
   "outputs": [],
   "source": [
    "#| default_exp datasets.bapps"
   ]
  },
  {
   "cell_type": "markdown",
   "metadata": {},
   "source": [
    "# BAPPS\n",
    "\n",
    "> Building a `tf.data.Dataset` for BAPPS."
   ]
  },
  {
   "cell_type": "code",
   "execution_count": null,
   "metadata": {},
   "outputs": [],
   "source": [
    "#| hide\n",
    "import os; os.environ[\"CUDA_VISIBLE_DEVICES\"]=\"-1\""
   ]
  },
  {
   "cell_type": "code",
   "execution_count": null,
   "metadata": {},
   "outputs": [],
   "source": [
    "#| export\n",
    "from pathlib import Path\n",
    "from typing import List\n",
    "\n",
    "import pandas as pd\n",
    "import tensorflow as tf\n",
    "import cv2"
   ]
  },
  {
   "cell_type": "markdown",
   "metadata": {},
   "source": [
    "After setting up the path to the directory and loading the corresponding `.csv` file, we need to create a generator that will iterate over the dataframe, load and return a 3-tuple: `(Reference Image, Distorted Image, DMOS)`. When can the pass that generator into a `tf.data.Dataset.from_generator()` to build the `Dataset` object:"
   ]
  },
  {
   "cell_type": "code",
   "execution_count": null,
   "metadata": {},
   "outputs": [],
   "source": [
    "#| export\n",
    "class BAPPS():\n",
    "    \"\"\"Builder for the BAPPS dataset\"\"\"\n",
    "\n",
    "    def __init__(self,\n",
    "                 path, # Path to the root directory of the dataset.\n",
    "                 num_parallel_calls: int = tf.data.AUTOTUNE, # Number of parallel calls when loading the images.\n",
    "                 ):\n",
    "        self.path_root = Path(path) if isinstance(path, str) else path\n",
    "        self.path_csv = self.path_root/\"data_bapps_extra.csv\"\n",
    "        self.data = self.load_data(self.path_csv)\n",
    "        self.paths_ref = str(self.path_root) + \"/\" + self.data.Reference\n",
    "        self.paths_dist_0 = str(self.path_root) + \"/\" + self.data.Image_0\n",
    "        self.paths_dist_1 = str(self.path_root) + \"/\" + self.data.Image_1\n",
    "        self.num_parallel_calls = num_parallel_calls\n",
    "\n",
    "    @property\n",
    "    def dataset(self):\n",
    "        \"\"\"tf.data.Dataset object built from the BAPPS dataset.\"\"\"\n",
    "        return tf.data.Dataset.from_tensor_slices((self.paths_ref, self.paths_dist_0, self.paths_dist_1, self.data.Label))\\\n",
    "                              .map(self.preprocess, num_parallel_calls=self.num_parallel_calls)\n",
    "\n",
    "    @staticmethod\n",
    "    def preprocess(path_ref,\n",
    "                   path_dist_0,\n",
    "                   path_dist_1,\n",
    "                   label,\n",
    "                   ):\n",
    "        img_ref = tf.io.read_file(path_ref)\n",
    "        img_dist_0 = tf.io.read_file(path_dist_0)\n",
    "        img_dist_1 = tf.io.read_file(path_dist_1)\n",
    "\n",
    "        img_ref = tf.image.decode_png(img_ref, channels=3)\n",
    "        img_dist_0 = tf.image.decode_png(img_dist_0, channels=3)\n",
    "        img_dist_1 = tf.image.decode_png(img_dist_1, channels=3)\n",
    "\n",
    "        img_ref = tf.image.convert_image_dtype(img_ref, dtype=tf.float32)\n",
    "        img_dist_0 = tf.image.convert_image_dtype(img_dist_0, dtype=tf.float32)\n",
    "        img_dist_1 = tf.image.convert_image_dtype(img_dist_1, dtype=tf.float32)\n",
    "\n",
    "        img_ref = tf.image.resize(img_ref, size=(252,252))\n",
    "        img_dist_0 = tf.image.resize(img_dist_0, size=(252,252))\n",
    "        img_dist_1 = tf.image.resize(img_dist_1, size=(252,252))\n",
    "\n",
    "        return img_ref, img_dist_0, img_dist_1, label\n",
    "\n",
    "    def load_data(self,\n",
    "                  path,\n",
    "                  ):\n",
    "        data = pd.read_csv(self.path_csv)\n",
    "        return data"
   ]
  },
  {
   "cell_type": "code",
   "execution_count": null,
   "metadata": {},
   "outputs": [],
   "source": [
    "# l = TID2013(path = Path(\"/media/disk/databases/BBDD_video_image/Image_Quality/TID/TID2013\"))\n",
    "l = BAPPS(path = Path(\"/lustre/ific.uv.es/ml/uv075/Databases/IQA/BAPPS/\"))"
   ]
  },
  {
   "cell_type": "code",
   "execution_count": null,
   "metadata": {},
   "outputs": [
    {
     "data": {
      "text/html": [
       "<div>\n",
       "<style scoped>\n",
       "    .dataframe tbody tr th:only-of-type {\n",
       "        vertical-align: middle;\n",
       "    }\n",
       "\n",
       "    .dataframe tbody tr th {\n",
       "        vertical-align: top;\n",
       "    }\n",
       "\n",
       "    .dataframe thead th {\n",
       "        text-align: right;\n",
       "    }\n",
       "</style>\n",
       "<table border=\"1\" class=\"dataframe\">\n",
       "  <thead>\n",
       "    <tr style=\"text-align: right;\">\n",
       "      <th></th>\n",
       "      <th>Reference</th>\n",
       "      <th>Image_0</th>\n",
       "      <th>Image_1</th>\n",
       "      <th>Preference</th>\n",
       "      <th>Label</th>\n",
       "      <th>Distortion_Type</th>\n",
       "    </tr>\n",
       "  </thead>\n",
       "  <tbody>\n",
       "    <tr>\n",
       "      <th>0</th>\n",
       "      <td>2afc/val/frameinterp/ref/000000.png</td>\n",
       "      <td>2afc/val/frameinterp/p0/000000.png</td>\n",
       "      <td>2afc/val/frameinterp/p1/000000.png</td>\n",
       "      <td>0.0</td>\n",
       "      <td>0</td>\n",
       "      <td>frameinterp</td>\n",
       "    </tr>\n",
       "    <tr>\n",
       "      <th>1</th>\n",
       "      <td>2afc/val/frameinterp/ref/000001.png</td>\n",
       "      <td>2afc/val/frameinterp/p0/000001.png</td>\n",
       "      <td>2afc/val/frameinterp/p1/000001.png</td>\n",
       "      <td>0.0</td>\n",
       "      <td>0</td>\n",
       "      <td>frameinterp</td>\n",
       "    </tr>\n",
       "    <tr>\n",
       "      <th>2</th>\n",
       "      <td>2afc/val/frameinterp/ref/000002.png</td>\n",
       "      <td>2afc/val/frameinterp/p0/000002.png</td>\n",
       "      <td>2afc/val/frameinterp/p1/000002.png</td>\n",
       "      <td>0.8</td>\n",
       "      <td>1</td>\n",
       "      <td>frameinterp</td>\n",
       "    </tr>\n",
       "    <tr>\n",
       "      <th>3</th>\n",
       "      <td>2afc/val/frameinterp/ref/000003.png</td>\n",
       "      <td>2afc/val/frameinterp/p0/000003.png</td>\n",
       "      <td>2afc/val/frameinterp/p1/000003.png</td>\n",
       "      <td>0.8</td>\n",
       "      <td>1</td>\n",
       "      <td>frameinterp</td>\n",
       "    </tr>\n",
       "    <tr>\n",
       "      <th>4</th>\n",
       "      <td>2afc/val/frameinterp/ref/000004.png</td>\n",
       "      <td>2afc/val/frameinterp/p0/000004.png</td>\n",
       "      <td>2afc/val/frameinterp/p1/000004.png</td>\n",
       "      <td>0.8</td>\n",
       "      <td>1</td>\n",
       "      <td>frameinterp</td>\n",
       "    </tr>\n",
       "    <tr>\n",
       "      <th>...</th>\n",
       "      <td>...</td>\n",
       "      <td>...</td>\n",
       "      <td>...</td>\n",
       "      <td>...</td>\n",
       "      <td>...</td>\n",
       "      <td>...</td>\n",
       "    </tr>\n",
       "    <tr>\n",
       "      <th>36339</th>\n",
       "      <td>2afc/val/cnn/ref/004715.png</td>\n",
       "      <td>2afc/val/cnn/p0/004715.png</td>\n",
       "      <td>2afc/val/cnn/p1/004715.png</td>\n",
       "      <td>0.0</td>\n",
       "      <td>0</td>\n",
       "      <td>cnn</td>\n",
       "    </tr>\n",
       "    <tr>\n",
       "      <th>36340</th>\n",
       "      <td>2afc/val/cnn/ref/004716.png</td>\n",
       "      <td>2afc/val/cnn/p0/004716.png</td>\n",
       "      <td>2afc/val/cnn/p1/004716.png</td>\n",
       "      <td>0.6</td>\n",
       "      <td>1</td>\n",
       "      <td>cnn</td>\n",
       "    </tr>\n",
       "    <tr>\n",
       "      <th>36341</th>\n",
       "      <td>2afc/val/cnn/ref/004717.png</td>\n",
       "      <td>2afc/val/cnn/p0/004717.png</td>\n",
       "      <td>2afc/val/cnn/p1/004717.png</td>\n",
       "      <td>1.0</td>\n",
       "      <td>1</td>\n",
       "      <td>cnn</td>\n",
       "    </tr>\n",
       "    <tr>\n",
       "      <th>36342</th>\n",
       "      <td>2afc/val/cnn/ref/004718.png</td>\n",
       "      <td>2afc/val/cnn/p0/004718.png</td>\n",
       "      <td>2afc/val/cnn/p1/004718.png</td>\n",
       "      <td>0.6</td>\n",
       "      <td>1</td>\n",
       "      <td>cnn</td>\n",
       "    </tr>\n",
       "    <tr>\n",
       "      <th>36343</th>\n",
       "      <td>2afc/val/cnn/ref/004719.png</td>\n",
       "      <td>2afc/val/cnn/p0/004719.png</td>\n",
       "      <td>2afc/val/cnn/p1/004719.png</td>\n",
       "      <td>1.0</td>\n",
       "      <td>1</td>\n",
       "      <td>cnn</td>\n",
       "    </tr>\n",
       "  </tbody>\n",
       "</table>\n",
       "<p>36344 rows × 6 columns</p>\n",
       "</div>"
      ],
      "text/plain": [
       "                                 Reference   \n",
       "0      2afc/val/frameinterp/ref/000000.png  \\\n",
       "1      2afc/val/frameinterp/ref/000001.png   \n",
       "2      2afc/val/frameinterp/ref/000002.png   \n",
       "3      2afc/val/frameinterp/ref/000003.png   \n",
       "4      2afc/val/frameinterp/ref/000004.png   \n",
       "...                                    ...   \n",
       "36339          2afc/val/cnn/ref/004715.png   \n",
       "36340          2afc/val/cnn/ref/004716.png   \n",
       "36341          2afc/val/cnn/ref/004717.png   \n",
       "36342          2afc/val/cnn/ref/004718.png   \n",
       "36343          2afc/val/cnn/ref/004719.png   \n",
       "\n",
       "                                  Image_0                             Image_1   \n",
       "0      2afc/val/frameinterp/p0/000000.png  2afc/val/frameinterp/p1/000000.png  \\\n",
       "1      2afc/val/frameinterp/p0/000001.png  2afc/val/frameinterp/p1/000001.png   \n",
       "2      2afc/val/frameinterp/p0/000002.png  2afc/val/frameinterp/p1/000002.png   \n",
       "3      2afc/val/frameinterp/p0/000003.png  2afc/val/frameinterp/p1/000003.png   \n",
       "4      2afc/val/frameinterp/p0/000004.png  2afc/val/frameinterp/p1/000004.png   \n",
       "...                                   ...                                 ...   \n",
       "36339          2afc/val/cnn/p0/004715.png          2afc/val/cnn/p1/004715.png   \n",
       "36340          2afc/val/cnn/p0/004716.png          2afc/val/cnn/p1/004716.png   \n",
       "36341          2afc/val/cnn/p0/004717.png          2afc/val/cnn/p1/004717.png   \n",
       "36342          2afc/val/cnn/p0/004718.png          2afc/val/cnn/p1/004718.png   \n",
       "36343          2afc/val/cnn/p0/004719.png          2afc/val/cnn/p1/004719.png   \n",
       "\n",
       "       Preference  Label Distortion_Type  \n",
       "0             0.0      0     frameinterp  \n",
       "1             0.0      0     frameinterp  \n",
       "2             0.8      1     frameinterp  \n",
       "3             0.8      1     frameinterp  \n",
       "4             0.8      1     frameinterp  \n",
       "...           ...    ...             ...  \n",
       "36339         0.0      0             cnn  \n",
       "36340         0.6      1             cnn  \n",
       "36341         1.0      1             cnn  \n",
       "36342         0.6      1             cnn  \n",
       "36343         1.0      1             cnn  \n",
       "\n",
       "[36344 rows x 6 columns]"
      ]
     },
     "execution_count": null,
     "metadata": {},
     "output_type": "execute_result"
    }
   ],
   "source": [
    "l.data"
   ]
  },
  {
   "cell_type": "code",
   "execution_count": null,
   "metadata": {},
   "outputs": [
    {
     "name": "stderr",
     "output_type": "stream",
     "text": [
      "2024-01-30 15:27:44.145352: I tensorflow/core/common_runtime/executor.cc:1197] [/device:CPU:0] (DEBUG INFO) Executor start aborting (this does not indicate an error and you can ignore this message): INVALID_ARGUMENT: You must feed a value for placeholder tensor 'Placeholder/_3' with dtype int64 and shape [36344]\n",
      "\t [[{{node Placeholder/_3}}]]\n"
     ]
    }
   ],
   "source": [
    "for a, b, c, d in l.dataset:\n",
    "    break\n",
    "assert a.shape == b.shape"
   ]
  },
  {
   "cell_type": "markdown",
   "metadata": {},
   "source": [
    "And we can benchmark it to finish:"
   ]
  },
  {
   "cell_type": "code",
   "execution_count": null,
   "metadata": {},
   "outputs": [
    {
     "name": "stderr",
     "output_type": "stream",
     "text": [
      "2024-01-30 15:27:44.307625: I tensorflow/core/common_runtime/executor.cc:1197] [/device:CPU:0] (DEBUG INFO) Executor start aborting (this does not indicate an error and you can ignore this message): INVALID_ARGUMENT: You must feed a value for placeholder tensor 'Placeholder/_3' with dtype int64 and shape [36344]\n",
      "\t [[{{node Placeholder/_3}}]]\n"
     ]
    },
    {
     "data": {
      "application/vnd.jupyter.widget-view+json": {
       "model_id": "da3b69125fa549afbaccd6cab1de4b45",
       "version_major": 2,
       "version_minor": 0
      },
      "text/plain": [
       "  0%|          | 0/36344 [00:00<?, ?it/s]"
      ]
     },
     "metadata": {},
     "output_type": "display_data"
    }
   ],
   "source": [
    "#| eval: false\n",
    "from tqdm.auto import tqdm\n",
    "shapes = []\n",
    "for a, b, c, d in tqdm(l.dataset): \n",
    "    shapes.append(a.shape)\n",
    "    # pass"
   ]
  }
 ],
 "metadata": {
  "kernelspec": {
   "display_name": "Python 3.8.12 ('tf26')",
   "language": "python",
   "name": "python3"
  }
 },
 "nbformat": 4,
 "nbformat_minor": 2
}
