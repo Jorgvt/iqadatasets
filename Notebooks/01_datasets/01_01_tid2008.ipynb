{
 "cells": [
  {
   "cell_type": "code",
   "execution_count": null,
   "metadata": {},
   "outputs": [],
   "source": [
    "#| default_exp datasets.tid2008"
   ]
  },
  {
   "attachments": {},
   "cell_type": "markdown",
   "metadata": {},
   "source": [
    "# TID2008\n",
    "\n",
    "> Building a `tf.data.Dataset` for TID2008."
   ]
  },
  {
   "cell_type": "code",
   "execution_count": null,
   "metadata": {},
   "outputs": [],
   "source": [
    "#| hide\n",
    "import os; os.environ[\"CUDA_VISIBLE_DEVICES\"]=\"-1\""
   ]
  },
  {
   "cell_type": "code",
   "execution_count": null,
   "metadata": {},
   "outputs": [],
   "source": [
    "#| export\n",
    "from pathlib import Path\n",
    "from typing import List\n",
    "\n",
    "import pandas as pd\n",
    "import tensorflow as tf\n",
    "import cv2"
   ]
  },
  {
   "cell_type": "markdown",
   "metadata": {},
   "source": [
    "After setting up the path to the directory and loading the corresponding `.csv` file, we need to create a generator that will iterate over the dataframe, load and return a 3-tuple: `(Reference Image, Distorted Image, DMOS)`. When can the pass that generator into a `tf.data.Dataset.from_generator()` to build the `Dataset` object:"
   ]
  },
  {
   "cell_type": "code",
   "execution_count": null,
   "metadata": {},
   "outputs": [],
   "source": [
    "#| export\n",
    "class TID2008():\n",
    "    \"\"\"Builder for the TID2008 dataset\"\"\"\n",
    "\n",
    "    def __init__(self,\n",
    "                 path, # Path to the root directory of the dataset.\n",
    "                 exclude_imgs: List[int] = None, # Image ID's to exclude.\n",
    "                 exclude_dist: List[int] = None, # Distortion ID's to exclude.\n",
    "                 exclude_ints: List[int] = None, # Distortion Intensities ID's to exclude.\n",
    "                 ):\n",
    "        self.path_root = Path(path) if isinstance(path, str) else path\n",
    "        self.path_ref = self.path_root/\"reference_images\"\n",
    "        self.path_dist = self.path_root/\"distorted_images\"\n",
    "        self.path_csv = self.path_root/\"image_pairs_mos.csv\"\n",
    "        self.data = self.load_data(self.path_csv, exclude_imgs, exclude_dist, exclude_ints)\n",
    "\n",
    "    @property\n",
    "    def dataset(self):\n",
    "        \"\"\"tf.data.Dataset object built from the TID2008 dataset.\"\"\"\n",
    "        return tf.data.Dataset.from_generator(\n",
    "                self.data_gen,\n",
    "                output_signature=(\n",
    "                    tf.TensorSpec(shape=(384, 512, 3), dtype=tf.float32),\n",
    "                    tf.TensorSpec(shape=(384, 512, 3), dtype=tf.float32),\n",
    "                    tf.TensorSpec(shape=(), dtype=tf.float32)\n",
    "                )\n",
    "            ) \n",
    "\n",
    "    def data_gen(self):\n",
    "        \"\"\"Dataset generator to build the tf.data.Dataset.\"\"\"\n",
    "        for i, row in self.data.iterrows():\n",
    "            ref, dist, mos = row.Reference, row.Distorted, row.MOS\n",
    "            dist = cv2.imread(str(self.path_dist/dist))\n",
    "            dist = cv2.cvtColor(dist, cv2.COLOR_BGR2RGB)/255.0\n",
    "            ref = cv2.imread(str(self.path_ref/ref))\n",
    "            ref = cv2.cvtColor(ref, cv2.COLOR_BGR2RGB)/255.0\n",
    "            yield ref, dist, mos\n",
    "\n",
    "    def load_data(self,\n",
    "                  path,\n",
    "                  exclude_imgs,\n",
    "                  exclude_dist,\n",
    "                  exclude_ints,\n",
    "                  ):\n",
    "        data = pd.read_csv(self.path_csv, index_col=0)\n",
    "        data = data[~data.Reference_ID.isin(exclude_imgs)] if exclude_imgs is not None else data\n",
    "        data = data[~data.Reference_ID.isin(exclude_dist)] if exclude_dist is not None else data\n",
    "        data = data[~data.Reference_ID.isin(exclude_ints)] if exclude_ints is not None else data\n",
    "        return data\n"
   ]
  },
  {
   "cell_type": "code",
   "execution_count": null,
   "metadata": {},
   "outputs": [],
   "source": [
    "l = TID2008(path = Path(\"/media/disk/databases/BBDD_video_image/Image_Quality/TID/TID2008\"))"
   ]
  },
  {
   "cell_type": "code",
   "execution_count": null,
   "metadata": {},
   "outputs": [],
   "source": [
    "for a, b, c in l.dataset:\n",
    "    break\n",
    "assert a.shape == b.shape"
   ]
  }
 ],
 "metadata": {
  "kernelspec": {
   "display_name": "Python 3.7.3 64-bit",
   "language": "python",
   "name": "python3"
  }
 },
 "nbformat": 4,
 "nbformat_minor": 2
}
