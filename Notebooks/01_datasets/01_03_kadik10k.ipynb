{
 "cells": [
  {
   "cell_type": "code",
   "execution_count": null,
   "metadata": {},
   "outputs": [],
   "source": [
    "#| default_exp datasets.kadik10k"
   ]
  },
  {
   "cell_type": "markdown",
   "metadata": {},
   "source": [
    "# KADID10K\n",
    "\n",
    "> Building a `tf.data.Dataset` for Kadik10k."
   ]
  },
  {
   "cell_type": "code",
   "execution_count": null,
   "metadata": {},
   "outputs": [],
   "source": [
    "#| hide\n",
    "import os; os.environ[\"CUDA_VISIBLE_DEVICES\"]=\"-1\""
   ]
  },
  {
   "cell_type": "code",
   "execution_count": null,
   "metadata": {},
   "outputs": [],
   "source": [
    "#| export\n",
    "from pathlib import Path\n",
    "from typing import List\n",
    "\n",
    "import pandas as pd\n",
    "import tensorflow as tf\n",
    "import cv2"
   ]
  },
  {
   "cell_type": "markdown",
   "metadata": {},
   "source": [
    "After setting up the path to the directory and loading the corresponding `.csv` file, we need to create a generator that will iterate over the dataframe, load and return a 3-tuple: `(Reference Image, Distorted Image, DMOS)`. When can the pass that generator into a `tf.data.Dataset.from_generator()` to build the `Dataset` object:"
   ]
  },
  {
   "cell_type": "code",
   "execution_count": null,
   "metadata": {},
   "outputs": [],
   "source": [
    "#| export\n",
    "class KADIK10K():\n",
    "    \"\"\"Builder for the KADIK10K dataset\"\"\"\n",
    "\n",
    "    def __init__(self,\n",
    "                 path, # Path to the root directory of the dataset.\n",
    "                 exclude_imgs: List[int] = None, # Image ID's to exclude.\n",
    "                 exclude_dist: List[int] = None, # Distortion ID's to exclude.\n",
    "                 exclude_ints: List[int] = None, # Distortion Intensities ID's to exclude.\n",
    "                 num_parallel_calls: int = tf.data.AUTOTUNE, # Number of parallel calls when loading the images.\n",
    "                 ):\n",
    "        self.path_root = Path(path) if isinstance(path, str) else path\n",
    "        self.path_csv = self.path_root/\"dmos.csv\"\n",
    "        self.path_images = self.path_root/\"images\"\n",
    "        self.data = self.load_data(self.path_csv, exclude_imgs, exclude_dist, exclude_ints)\n",
    "        self.paths_ref = [str(self.path_images/p) for p in self.data[\"ref_img\"]]\n",
    "        self.paths_dist = [str(self.path_images/p) for p in self.data[\"dist_img\"]]\n",
    "        self.num_parallel_calls = num_parallel_calls\n",
    "\n",
    "    @property\n",
    "    def dataset(self):\n",
    "        \"\"\"tf.data.Dataset object built from the TID2013 dataset.\"\"\"\n",
    "        return tf.data.Dataset.from_tensor_slices((self.paths_ref, self.paths_dist, self.data[\"dmos\"]))\\\n",
    "                              .map(self.preprocess, num_parallel_calls=self.num_parallel_calls)\n",
    "\n",
    "    @staticmethod\n",
    "    def preprocess(path_ref,\n",
    "                   path_dist,\n",
    "                   mos,\n",
    "                   ):\n",
    "        img_ref = tf.io.read_file(path_ref)\n",
    "        img_dist = tf.io.read_file(path_dist)\n",
    "\n",
    "        img_ref = tf.image.decode_png(img_ref, channels=3)\n",
    "        img_dist = tf.image.decode_png(img_dist, channels=3)\n",
    "\n",
    "        img_ref = tf.image.convert_image_dtype(img_ref, dtype=tf.float32)\n",
    "        img_dist = tf.image.convert_image_dtype(img_dist, dtype=tf.float32)\n",
    "\n",
    "        return img_ref, img_dist, mos\n",
    "\n",
    "    def load_data(self,\n",
    "                  path,\n",
    "                  exclude_imgs,\n",
    "                  exclude_dist,\n",
    "                  exclude_ints,\n",
    "                  ):\n",
    "        data = pd.read_csv(self.path_csv)\n",
    "        data = data[~data.Reference_ID.isin(exclude_imgs)] if exclude_imgs is not None else data\n",
    "        data = data[~data.Reference_ID.isin(exclude_dist)] if exclude_dist is not None else data\n",
    "        data = data[~data.Reference_ID.isin(exclude_ints)] if exclude_ints is not None else data\n",
    "        return data\n"
   ]
  },
  {
   "cell_type": "code",
   "execution_count": null,
   "metadata": {},
   "outputs": [],
   "source": [
    "# l = KADIK10K(path = Path(\"/media/disk/databases/BBDD_video_image/Image_Quality/KADIK10K\"))\n",
    "l = KADIK10K(path = Path(\"/lustre/ific.uv.es/ml/uv075/Databases/IQA/KADIK10K/\"))"
   ]
  },
  {
   "cell_type": "code",
   "execution_count": null,
   "metadata": {},
   "outputs": [
    {
     "data": {
      "text/html": [
       "<div>\n",
       "<style scoped>\n",
       "    .dataframe tbody tr th:only-of-type {\n",
       "        vertical-align: middle;\n",
       "    }\n",
       "\n",
       "    .dataframe tbody tr th {\n",
       "        vertical-align: top;\n",
       "    }\n",
       "\n",
       "    .dataframe thead th {\n",
       "        text-align: right;\n",
       "    }\n",
       "</style>\n",
       "<table border=\"1\" class=\"dataframe\">\n",
       "  <thead>\n",
       "    <tr style=\"text-align: right;\">\n",
       "      <th></th>\n",
       "      <th>dist_img</th>\n",
       "      <th>ref_img</th>\n",
       "      <th>dmos</th>\n",
       "      <th>var</th>\n",
       "    </tr>\n",
       "  </thead>\n",
       "  <tbody>\n",
       "    <tr>\n",
       "      <th>0</th>\n",
       "      <td>I01_01_01.png</td>\n",
       "      <td>I01.png</td>\n",
       "      <td>4.57</td>\n",
       "      <td>0.496</td>\n",
       "    </tr>\n",
       "    <tr>\n",
       "      <th>1</th>\n",
       "      <td>I01_01_02.png</td>\n",
       "      <td>I01.png</td>\n",
       "      <td>4.33</td>\n",
       "      <td>0.869</td>\n",
       "    </tr>\n",
       "    <tr>\n",
       "      <th>2</th>\n",
       "      <td>I01_01_03.png</td>\n",
       "      <td>I01.png</td>\n",
       "      <td>2.67</td>\n",
       "      <td>0.789</td>\n",
       "    </tr>\n",
       "    <tr>\n",
       "      <th>3</th>\n",
       "      <td>I01_01_04.png</td>\n",
       "      <td>I01.png</td>\n",
       "      <td>1.67</td>\n",
       "      <td>0.596</td>\n",
       "    </tr>\n",
       "    <tr>\n",
       "      <th>4</th>\n",
       "      <td>I01_01_05.png</td>\n",
       "      <td>I01.png</td>\n",
       "      <td>1.10</td>\n",
       "      <td>0.300</td>\n",
       "    </tr>\n",
       "  </tbody>\n",
       "</table>\n",
       "</div>"
      ],
      "text/plain": [
       "        dist_img  ref_img  dmos    var\n",
       "0  I01_01_01.png  I01.png  4.57  0.496\n",
       "1  I01_01_02.png  I01.png  4.33  0.869\n",
       "2  I01_01_03.png  I01.png  2.67  0.789\n",
       "3  I01_01_04.png  I01.png  1.67  0.596\n",
       "4  I01_01_05.png  I01.png  1.10  0.300"
      ]
     },
     "execution_count": null,
     "metadata": {},
     "output_type": "execute_result"
    }
   ],
   "source": [
    "l.data.head()"
   ]
  },
  {
   "cell_type": "code",
   "execution_count": null,
   "metadata": {},
   "outputs": [
    {
     "name": "stderr",
     "output_type": "stream",
     "text": [
      "2023-09-13 15:19:51.686217: E tensorflow/stream_executor/cuda/cuda_driver.cc:271] failed call to cuInit: CUDA_ERROR_NO_DEVICE: no CUDA-capable device is detected\n",
      "2023-09-13 15:19:51.686343: I tensorflow/stream_executor/cuda/cuda_diagnostics.cc:169] retrieving CUDA diagnostic information for host: mlui02.ific.uv.es\n",
      "2023-09-13 15:19:51.686379: I tensorflow/stream_executor/cuda/cuda_diagnostics.cc:176] hostname: mlui02.ific.uv.es\n",
      "2023-09-13 15:19:51.686679: I tensorflow/stream_executor/cuda/cuda_diagnostics.cc:200] libcuda reported version is: 535.54.3\n",
      "2023-09-13 15:19:51.686785: I tensorflow/stream_executor/cuda/cuda_diagnostics.cc:204] kernel reported version is: 535.54.3\n",
      "2023-09-13 15:19:51.686809: I tensorflow/stream_executor/cuda/cuda_diagnostics.cc:310] kernel version seems to match DSO: 535.54.3\n",
      "2023-09-13 15:19:51.688098: I tensorflow/core/platform/cpu_feature_guard.cc:193] This TensorFlow binary is optimized with oneAPI Deep Neural Network Library (oneDNN) to use the following CPU instructions in performance-critical operations:  AVX2 AVX512F FMA\n",
      "To enable them in other operations, rebuild TensorFlow with the appropriate compiler flags.\n"
     ]
    }
   ],
   "source": [
    "for a, b, c in l.dataset:\n",
    "    break\n",
    "assert a.shape == b.shape"
   ]
  },
  {
   "cell_type": "markdown",
   "metadata": {},
   "source": [
    "And we can benchmark it to finish:"
   ]
  },
  {
   "cell_type": "code",
   "execution_count": null,
   "metadata": {},
   "outputs": [
    {
     "data": {
      "application/vnd.jupyter.widget-view+json": {
       "model_id": "69b325a3683f416cbd0b4386afc583f0",
       "version_major": 2,
       "version_minor": 0
      },
      "text/plain": [
       "  0%|          | 0/10125 [00:00<?, ?it/s]"
      ]
     },
     "metadata": {},
     "output_type": "display_data"
    }
   ],
   "source": [
    "#| eval: false\n",
    "from tqdm.auto import tqdm\n",
    "for a, b, c in tqdm(l.dataset): pass"
   ]
  },
  {
   "cell_type": "markdown",
   "metadata": {},
   "source": [
    "## Extending the base `.csv`\n",
    "\n",
    "> We can extend the given `.csv` to separate information regarding the distortion and it's intensity to add more flexibility to the posterior analysis."
   ]
  },
  {
   "cell_type": "code",
   "execution_count": null,
   "metadata": {},
   "outputs": [],
   "source": [
    "#| hide\n",
    "import re"
   ]
  },
  {
   "cell_type": "code",
   "execution_count": null,
   "metadata": {},
   "outputs": [],
   "source": [
    "def extract_distortion_intensity(row):\n",
    "    \"\"\"Extracts the distortion and the intensity from the distorted image filename.\"\"\"\n",
    "    distortion, intensity = re.findall(r\"I\\d+_(\\d+)_(\\d+).png\", row.dist_img)[0]\n",
    "    return {\"distortion\": distortion, \"intensity\": intensity}"
   ]
  },
  {
   "cell_type": "code",
   "execution_count": null,
   "metadata": {},
   "outputs": [
    {
     "data": {
      "text/html": [
       "<div>\n",
       "<style scoped>\n",
       "    .dataframe tbody tr th:only-of-type {\n",
       "        vertical-align: middle;\n",
       "    }\n",
       "\n",
       "    .dataframe tbody tr th {\n",
       "        vertical-align: top;\n",
       "    }\n",
       "\n",
       "    .dataframe thead th {\n",
       "        text-align: right;\n",
       "    }\n",
       "</style>\n",
       "<table border=\"1\" class=\"dataframe\">\n",
       "  <thead>\n",
       "    <tr style=\"text-align: right;\">\n",
       "      <th></th>\n",
       "      <th>dist_img</th>\n",
       "      <th>ref_img</th>\n",
       "      <th>dmos</th>\n",
       "      <th>var</th>\n",
       "      <th>distortion</th>\n",
       "      <th>intensity</th>\n",
       "    </tr>\n",
       "  </thead>\n",
       "  <tbody>\n",
       "    <tr>\n",
       "      <th>0</th>\n",
       "      <td>I01_01_01.png</td>\n",
       "      <td>I01.png</td>\n",
       "      <td>4.57</td>\n",
       "      <td>0.496</td>\n",
       "      <td>01</td>\n",
       "      <td>01</td>\n",
       "    </tr>\n",
       "    <tr>\n",
       "      <th>1</th>\n",
       "      <td>I01_01_02.png</td>\n",
       "      <td>I01.png</td>\n",
       "      <td>4.33</td>\n",
       "      <td>0.869</td>\n",
       "      <td>01</td>\n",
       "      <td>02</td>\n",
       "    </tr>\n",
       "    <tr>\n",
       "      <th>2</th>\n",
       "      <td>I01_01_03.png</td>\n",
       "      <td>I01.png</td>\n",
       "      <td>2.67</td>\n",
       "      <td>0.789</td>\n",
       "      <td>01</td>\n",
       "      <td>03</td>\n",
       "    </tr>\n",
       "    <tr>\n",
       "      <th>3</th>\n",
       "      <td>I01_01_04.png</td>\n",
       "      <td>I01.png</td>\n",
       "      <td>1.67</td>\n",
       "      <td>0.596</td>\n",
       "      <td>01</td>\n",
       "      <td>04</td>\n",
       "    </tr>\n",
       "    <tr>\n",
       "      <th>4</th>\n",
       "      <td>I01_01_05.png</td>\n",
       "      <td>I01.png</td>\n",
       "      <td>1.10</td>\n",
       "      <td>0.300</td>\n",
       "      <td>01</td>\n",
       "      <td>05</td>\n",
       "    </tr>\n",
       "  </tbody>\n",
       "</table>\n",
       "</div>"
      ],
      "text/plain": [
       "        dist_img  ref_img  dmos    var distortion intensity\n",
       "0  I01_01_01.png  I01.png  4.57  0.496         01        01\n",
       "1  I01_01_02.png  I01.png  4.33  0.869         01        02\n",
       "2  I01_01_03.png  I01.png  2.67  0.789         01        03\n",
       "3  I01_01_04.png  I01.png  1.67  0.596         01        04\n",
       "4  I01_01_05.png  I01.png  1.10  0.300         01        05"
      ]
     },
     "execution_count": null,
     "metadata": {},
     "output_type": "execute_result"
    }
   ],
   "source": [
    "l.data = pd.concat([l.data, l.data.apply(extract_distortion_intensity, axis=1, result_type=\"expand\")], axis=1)\n",
    "l.data.head()"
   ]
  },
  {
   "cell_type": "markdown",
   "metadata": {},
   "source": [
    "We'll save it as a different file to avoid breaking currently working code:"
   ]
  },
  {
   "cell_type": "code",
   "execution_count": null,
   "metadata": {},
   "outputs": [],
   "source": [
    "l.data.to_csv(\"/media/disk/databases/BBDD_video_image/Image_Quality/KADIK10K/dmos_extended.csv\")"
   ]
  }
 ],
 "metadata": {
  "kernelspec": {
   "display_name": "Python 3.8.12 ('tf26')",
   "language": "python",
   "name": "python3"
  }
 },
 "nbformat": 4,
 "nbformat_minor": 2
}
