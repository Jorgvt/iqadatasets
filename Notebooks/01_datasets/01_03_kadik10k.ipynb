{
 "cells": [
  {
   "cell_type": "code",
   "execution_count": null,
   "metadata": {},
   "outputs": [],
   "source": [
    "#| default_exp datasets.kadik10k"
   ]
  },
  {
   "cell_type": "markdown",
   "metadata": {},
   "source": [
    "# LIVE\n",
    "\n",
    "> Building a `tf.data.Dataset` for Kadik10k."
   ]
  },
  {
   "cell_type": "code",
   "execution_count": null,
   "metadata": {},
   "outputs": [],
   "source": [
    "#| hide\n",
    "import os; os.environ[\"CUDA_VISIBLE_DEVICES\"]=\"-1\""
   ]
  },
  {
   "cell_type": "code",
   "execution_count": null,
   "metadata": {},
   "outputs": [],
   "source": [
    "#| export\n",
    "from pathlib import Path\n",
    "from typing import List\n",
    "\n",
    "import pandas as pd\n",
    "import tensorflow as tf\n",
    "import cv2"
   ]
  },
  {
   "cell_type": "markdown",
   "metadata": {},
   "source": [
    "After setting up the path to the directory and loading the corresponding `.csv` file, we need to create a generator that will iterate over the dataframe, load and return a 3-tuple: `(Reference Image, Distorted Image, DMOS)`. When can the pass that generator into a `tf.data.Dataset.from_generator()` to build the `Dataset` object:"
   ]
  },
  {
   "cell_type": "code",
   "execution_count": null,
   "metadata": {},
   "outputs": [],
   "source": [
    "#| export\n",
    "class KADIK10K():\n",
    "    \"\"\"Builder for the KADIK10K dataset\"\"\"\n",
    "\n",
    "    def __init__(self,\n",
    "                 path, # Path to the root directory of the dataset.\n",
    "                 exclude_imgs: List[int] = None, # Image ID's to exclude.\n",
    "                 exclude_dist: List[int] = None, # Distortion ID's to exclude.\n",
    "                 exclude_ints: List[int] = None, # Distortion Intensities ID's to exclude.\n",
    "                 ):\n",
    "        self.path_root = Path(path) if isinstance(path, str) else path\n",
    "        self.path_csv = self.path_root/\"dmos.csv\"\n",
    "        self.path_images = self.path_root/\"images\"\n",
    "        self.data = self.load_data(self.path_csv, exclude_imgs, exclude_dist, exclude_ints)\n",
    "\n",
    "    @property\n",
    "    def dataset(self):\n",
    "        \"\"\"tf.data.Dataset object built from the KADIK10K dataset.\"\"\"\n",
    "        return tf.data.Dataset.from_generator(\n",
    "                self.data_gen,\n",
    "                output_signature=(\n",
    "                    tf.TensorSpec(shape=(384, 512, 3), dtype=tf.float32),\n",
    "                    tf.TensorSpec(shape=(384, 512, 3), dtype=tf.float32),\n",
    "                    tf.TensorSpec(shape=(), dtype=tf.float32)\n",
    "                )\n",
    "            ) \n",
    "\n",
    "    def data_gen(self):\n",
    "        \"\"\"Dataset generator to build the tf.data.Dataset.\"\"\"\n",
    "        for i, row in self.data.iterrows():\n",
    "            ref, dist, dmos = row.ref_img, row.dist_img, row.dmos\n",
    "            dist = cv2.imread(str(self.path_images/dist))\n",
    "            dist = cv2.cvtColor(dist, cv2.COLOR_BGR2RGB)/255.0\n",
    "            ref = cv2.imread(str(self.path_images/ref))\n",
    "            ref = cv2.cvtColor(ref, cv2.COLOR_BGR2RGB)/255.0\n",
    "            yield ref, dist, dmos\n",
    "\n",
    "    def load_data(self,\n",
    "                  path,\n",
    "                  exclude_imgs,\n",
    "                  exclude_dist,\n",
    "                  exclude_ints,\n",
    "                  ):\n",
    "        data = pd.read_csv(self.path_csv)\n",
    "        data = data[~data.Reference_ID.isin(exclude_imgs)] if exclude_imgs is not None else data\n",
    "        data = data[~data.Reference_ID.isin(exclude_dist)] if exclude_dist is not None else data\n",
    "        data = data[~data.Reference_ID.isin(exclude_ints)] if exclude_ints is not None else data\n",
    "        return data\n"
   ]
  },
  {
   "cell_type": "code",
   "execution_count": null,
   "metadata": {},
   "outputs": [],
   "source": [
    "l = KADIK10K(path = Path(\"/media/disk/databases/BBDD_video_image/Image_Quality/KADIK10K\"))"
   ]
  },
  {
   "cell_type": "code",
   "execution_count": null,
   "metadata": {},
   "outputs": [
    {
     "data": {
      "text/html": [
       "<div>\n",
       "<style scoped>\n",
       "    .dataframe tbody tr th:only-of-type {\n",
       "        vertical-align: middle;\n",
       "    }\n",
       "\n",
       "    .dataframe tbody tr th {\n",
       "        vertical-align: top;\n",
       "    }\n",
       "\n",
       "    .dataframe thead th {\n",
       "        text-align: right;\n",
       "    }\n",
       "</style>\n",
       "<table border=\"1\" class=\"dataframe\">\n",
       "  <thead>\n",
       "    <tr style=\"text-align: right;\">\n",
       "      <th></th>\n",
       "      <th>dist_img</th>\n",
       "      <th>ref_img</th>\n",
       "      <th>dmos</th>\n",
       "      <th>var</th>\n",
       "    </tr>\n",
       "  </thead>\n",
       "  <tbody>\n",
       "    <tr>\n",
       "      <th>0</th>\n",
       "      <td>I01_01_01.png</td>\n",
       "      <td>I01.png</td>\n",
       "      <td>4.57</td>\n",
       "      <td>0.496</td>\n",
       "    </tr>\n",
       "    <tr>\n",
       "      <th>1</th>\n",
       "      <td>I01_01_02.png</td>\n",
       "      <td>I01.png</td>\n",
       "      <td>4.33</td>\n",
       "      <td>0.869</td>\n",
       "    </tr>\n",
       "    <tr>\n",
       "      <th>2</th>\n",
       "      <td>I01_01_03.png</td>\n",
       "      <td>I01.png</td>\n",
       "      <td>2.67</td>\n",
       "      <td>0.789</td>\n",
       "    </tr>\n",
       "    <tr>\n",
       "      <th>3</th>\n",
       "      <td>I01_01_04.png</td>\n",
       "      <td>I01.png</td>\n",
       "      <td>1.67</td>\n",
       "      <td>0.596</td>\n",
       "    </tr>\n",
       "    <tr>\n",
       "      <th>4</th>\n",
       "      <td>I01_01_05.png</td>\n",
       "      <td>I01.png</td>\n",
       "      <td>1.10</td>\n",
       "      <td>0.300</td>\n",
       "    </tr>\n",
       "  </tbody>\n",
       "</table>\n",
       "</div>"
      ],
      "text/plain": [
       "        dist_img  ref_img  dmos    var\n",
       "0  I01_01_01.png  I01.png  4.57  0.496\n",
       "1  I01_01_02.png  I01.png  4.33  0.869\n",
       "2  I01_01_03.png  I01.png  2.67  0.789\n",
       "3  I01_01_04.png  I01.png  1.67  0.596\n",
       "4  I01_01_05.png  I01.png  1.10  0.300"
      ]
     },
     "execution_count": null,
     "metadata": {},
     "output_type": "execute_result"
    }
   ],
   "source": [
    "l.data.head()"
   ]
  },
  {
   "cell_type": "code",
   "execution_count": null,
   "metadata": {},
   "outputs": [],
   "source": [
    "for a, b, c in l.dataset:\n",
    "    break\n",
    "assert a.shape == b.shape"
   ]
  }
 ],
 "metadata": {
  "kernelspec": {
   "display_name": "Python 3.8.12 ('tf26')",
   "language": "python",
   "name": "python3"
  }
 },
 "nbformat": 4,
 "nbformat_minor": 2
}
